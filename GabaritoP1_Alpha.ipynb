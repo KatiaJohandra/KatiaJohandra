{
  "nbformat": 4,
  "nbformat_minor": 0,
  "metadata": {
    "colab": {
      "provenance": [],
      "include_colab_link": true
    },
    "kernelspec": {
      "name": "python3",
      "display_name": "Python 3"
    },
    "language_info": {
      "name": "python"
    }
  },
  "cells": [
    {
      "cell_type": "markdown",
      "metadata": {
        "id": "view-in-github",
        "colab_type": "text"
      },
      "source": [
        "<a href=\"https://colab.research.google.com/github/KatiaJohandra/KatiaJohandra/blob/main/GabaritoP1_Alpha.ipynb\" target=\"_parent\"><img src=\"https://colab.research.google.com/assets/colab-badge.svg\" alt=\"Open In Colab\"/></a>"
      ]
    },
    {
      "cell_type": "markdown",
      "source": [
        "# Gabarito da P1 - alpha"
      ],
      "metadata": {
        "id": "rGp-BFdqt8JK"
      }
    },
    {
      "cell_type": "code",
      "source": [
        "# instalação e importaçaõ da biblioteca CoolProp\n",
        "!pip install coolprop\n",
        "from CoolProp.CoolProp import PropsSI\n",
        "from CoolProp.CoolProp import HAPropsSI"
      ],
      "metadata": {
        "colab": {
          "base_uri": "https://localhost:8080/"
        },
        "id": "MBjwBAgq8471",
        "outputId": "fc4e2aa1-fbbd-44b7-92ca-ff1fdc906949"
      },
      "execution_count": null,
      "outputs": [
        {
          "output_type": "stream",
          "name": "stdout",
          "text": [
            "Requirement already satisfied: coolprop in /usr/local/lib/python3.10/dist-packages (6.5.0.post1)\n"
          ]
        }
      ]
    },
    {
      "cell_type": "markdown",
      "source": [
        "## Questão 1 -  misturador:\n",
        "\n",
        "Para o ambiente climatizado e seu respectivo sistema de climatização mostrado na Figura. São fornecidos os seguintes dados:\n",
        "Vazão de insuflação: 7,2 kg de ar seco/s;\n",
        "vazão de ar externo 1,5 kg/s de ar seco/s;\n",
        "condições do ar no ambiente climatizado: TBS = 25ºC e Φ = 50%;\n",
        "condições do ar na seção de insuflação: TBS = 15ºC e Φ = 90 %;\n",
        "Determine:\n",
        "\n",
        "a) (1 pontos) A temperatura de bulbo seco e a umidade relativa do ar na entrada do equipamento de climatização. Utilize os dados para cidade Cuiabá, TBS = 35 ºC, TBU = 25ºC e Patm = 98,00 kPa para o ar externo.\n",
        "\n",
        "b) (1 pontos) A carga térmica no sistema de climatização.\n",
        "\n",
        "\n"
      ],
      "metadata": {
        "id": "yBWQpdCQuAix"
      }
    },
    {
      "cell_type": "markdown",
      "source": [
        "![Questão1.png](data:image/png;base64,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)"
      ],
      "metadata": {
        "id": "tuzO4wGXuWqX"
      }
    },
    {
      "cell_type": "markdown",
      "source": [
        "### Soluções\n",
        "\n",
        "dados:\n",
        "\n",
        "$ \\dot{m}_{ar, ins} = \\dot{m}_{1_3} = 7,2 \\, kg/s$\n",
        "\n",
        "$\\dot{m}_{ar, ext} = \\dot{m}_{1_1}=1,5 \\, kg/s$\n",
        "\n",
        "Ar climatizado:\n",
        "\n",
        "$T_{BS} = T_{1_2} = 25^\\circ C$ e $\\phi = 50 \\%$\n",
        "\n",
        "Condição de ar insuflado:\n",
        "\n",
        "$T_{BS} = T_{4} = 15^\\circ C $ e $\\phi = 90\\%$\n",
        "\n",
        "Dados externo:\n",
        "\n",
        "$T_{BS} = T_{1_{BS1}} = 35^\\circ C$\n",
        "\n",
        "$T_{BU} = T_{1_{BU1}} = 25^\\circ C$\n",
        "\n",
        "$P_{atm1} = 98,00 \\, kPa$\n",
        "\n",
        "Inserção dos dados:"
      ],
      "metadata": {
        "id": "N9vkZzFa61Mx"
      }
    },
    {
      "cell_type": "code",
      "execution_count": null,
      "metadata": {
        "id": "cgjaUXN8rdzD"
      },
      "outputs": [],
      "source": [
        "m_1_3 = 7.2 #kg/s\n",
        "m_1_1 = 1.5  #kg/s\n",
        "#Condições do Ar de retorno\n",
        "T_1_2 = 25 + 273.15\n",
        "phi_1_2 = 0.5\n",
        "# Ar de insuflamento\n",
        "T_1_4 = 15 +273.15\n",
        "phi_1_4 = 0.90\n",
        "# Condições do ar externo\n",
        "T_1bs1 = 35 +273.15\n",
        "T_1bu1 = 25 +273.15\n",
        "\n",
        "\n",
        "# Pressão atmosférica\n",
        "Patm1 = 98000 #Pa\n"
      ]
    },
    {
      "cell_type": "markdown",
      "source": [
        "### Solução:\n",
        "\n",
        "Obteção das Propriedades termodinâmica da mistura:"
      ],
      "metadata": {
        "id": "kk07ztb19w9w"
      }
    },
    {
      "cell_type": "code",
      "source": [
        "# estado 1 - ar externo\n",
        "w_1_1 = HAPropsSI('W', 'T', T_1bs1, 'Twb', T_1bu1, 'P', Patm1)\n",
        "print(\"w_1_1 = \", w_1_1, \"kg/kg\")\n",
        "h_1_1 = HAPropsSI('H', 'T', T_1bs1, 'Twb', T_1bu1, 'P', Patm1)\n",
        "print(\"h_1_1 = \", h_1_1/1000, \"kJ/kg\")\n",
        "\n",
        "# Estado 2 - ar de retorno\n",
        "w_1_2 = HAPropsSI('W', 'T', T_1_2, 'R', phi_1_2, 'P', Patm1)\n",
        "print(\"w_1_2 = \", w_1_2, \"kg/kg\")\n",
        "h_1_2 = HAPropsSI('H', 'T', T_1_2, 'R', phi_1_2, 'P', Patm1)\n",
        "print(\"h_1_2 = \", h_1_2/1000, \"kJ/kg\")\n",
        "\n",
        "# estado 4 - ar de insuflamento\n",
        "\n",
        "w_1_4 = HAPropsSI('W', 'T', T_1_4, 'R', phi_1_4, 'P', Patm1)\n",
        "print(\"w_1_4 = \", w_1_4, \"kg/kg\")\n",
        "h_1_4 = HAPropsSI('H', 'T', T_1_4, 'R', phi_1_4, 'P', Patm1)\n",
        "print(\"h_1_4 = \", h_1_4/1000, \"kJ/kg\")\n",
        "\n"
      ],
      "metadata": {
        "colab": {
          "base_uri": "https://localhost:8080/"
        },
        "id": "EB0PqOX-Z3hx",
        "outputId": "23ef3208-b5bc-4d93-efc6-f5f539f66106"
      },
      "execution_count": null,
      "outputs": [
        {
          "output_type": "stream",
          "name": "stdout",
          "text": [
            "w_1_1 =  0.016624807322141277 kg/kg\n",
            "h_1_1 =  77.86213230247682 kJ/kg\n",
            "w_1_2 =  0.01026706045138013 kg/kg\n",
            "h_1_2 =  51.30053788747774 kJ/kg\n",
            "w_1_4 =  0.009938015395125205 kg/kg\n",
            "h_1_4 =  40.21469868516969 kJ/kg\n"
          ]
        }
      ]
    },
    {
      "cell_type": "markdown",
      "source": [
        "#### Solução a)\n",
        "\n",
        "O exercício se trata de um misturador com duas entrada de ar e a saída da mistura. As entradas consistem no ar de retorno e ar externo, e devemos encontrar o estado do ar na saída.\n",
        "  \n",
        "Lembrando que foi fornecido o $\\dot{m}_{ar, insuflamento}$ e o $\\dot{m}_{ar, externo}$. Sendo necessário determinar o ar de retorno que adentra o misturador $\\dot{m}_{ar, retorno} = \\dot{m}_{ar, 2}$\n",
        "\n",
        "\n",
        "\n",
        "Sabendo disso, podemos realizar o **balanço de massa de ar seco** e obter a seguintes equação:\n",
        "\n",
        "$$ \\dot{m}_{ar, 1} + \\dot{m}_{ar,2} = \\dot{m}_{ar,3} $$\n",
        "\n",
        "Também podemos realizar o <u>**balanço de massa de água**</u>:\n",
        "\n",
        "$$\\dot{m}_{ar, 1} \\omega_{1} + \\dot{m}_{ar, 2} \\omega_{2}  = \\dot{m}_{ar,3} \\omega_{3} $$\n",
        "<br>\n",
        "Com este balançod e massa obtemos:\n",
        "\n",
        "\n",
        "$$\\omega_{3} = \\frac{\\dot{m}_{ar,1} ω_{1} + \\dot{m}_{ar,2} \\omega_{2}}{\\dot{m}_{ar, 3}} $$\n",
        "\n",
        "<br>\n",
        "\n",
        "O <u>***balanço de energia***</u> é apresentado dessa forma:\n",
        "$$ \\dot{m}_{ar, 1} h_{1} + \\dot{m}_{ar, 2} h_{2}  = \\dot{m}_{ar,3} h_{3}  $$\n",
        "<br>\n",
        "\n",
        "Portanto, temos:\n",
        "\n",
        "$$ h_3 = \\frac{\\dot{m}_{ar,1} h_{1} + \\dot{m}_{ar,2} h_{2}}{\\dot{m}_{ar, 3}} $$\n",
        "\n",
        "<br>\n",
        "\n",
        "Utilizando as funções do CoolProp obtemos a temperatura da mistura:\n",
        "\n",
        "ou por meio interativo utilizando a equação:\n",
        "$$ h_3 = C_{p} T_3 + \\omega_3 h_{v_@T_3}$$"
      ],
      "metadata": {
        "id": "UeIKScKX97Oe"
      }
    },
    {
      "cell_type": "code",
      "source": [
        "#Cálculo da massa de ar de retorno:\n",
        "m_1_2 = m_1_3 - m_1_1\n",
        "print(\"parcela de massa ar de retorno, m_1_2  = \", m_1_2, \"kg/s\")\n",
        "\n",
        "w_1_3 = (m_1_1 * w_1_1  + m_1_2 * w_1_2) / m_1_3\n",
        "print(\"w_1_3 = \", w_1_3, \"kg/kg\")\n",
        "\n",
        "\n",
        "h_1_3 = (m_1_1 * h_1_1  + m_1_2 * h_1_2) / m_1_3\n",
        "print(\"h_1_3 = \", h_1_3/1000, \"kJ/kg\")\n",
        "\n",
        "T_1_3 = HAPropsSI('T', 'H', h_1_3, 'W', w_1_3, 'P', Patm1)\n",
        "print(\"T_1_3 = \", T_1_3 - 273.15, \"°C\")"
      ],
      "metadata": {
        "id": "X9tt2q9iAfqG",
        "colab": {
          "base_uri": "https://localhost:8080/"
        },
        "outputId": "bb6c83da-b2ee-456d-df66-627eb4e2d0c7"
      },
      "execution_count": null,
      "outputs": [
        {
          "output_type": "stream",
          "name": "stdout",
          "text": [
            "parcela de massa ar de retorno, m_1_2  =  5.7 kg/s\n",
            "w_1_3 =  0.011591591049455369 kg/kg\n",
            "h_1_3 =  56.83420339060255 kJ/kg\n",
            "T_1_3 =  27.10264999387573 °C\n"
          ]
        }
      ]
    },
    {
      "cell_type": "markdown",
      "source": [
        "#### Solução b) determinar a carga térmica no evaporador:\n",
        "\n",
        "Realizando o balanço de massa de água no evaporador temos:\n",
        "\n",
        "$$\\dot{m}_{3} \\omega_3 - \\dot{m}_{4} \\omega_4 - \\dot{m}_5 = 0$$\n",
        "\n",
        "Portanto, temos:\n",
        "\n",
        "$$ \\dot{m}_{5} = \\dot{m}_{ar} (\\omega_3 - \\omega_4) $$\n",
        "\n",
        "Lembrando que $\\dot{m}_5$ é a vazão mássica da água que condensa no evaporador.\n",
        "\n",
        "Balanço de energia no evaporador temos:\n",
        "\n",
        "$$ \\dot{m}_3 h_3 - \\dot{m}_4 h_4 - \\dot{m}_5 h_5 - \\dot{Q} = 0$$\n",
        "\n",
        "Assim, podemos encontrar o calor transferido no evaporador:\n",
        "\n",
        "$$ \\dot{Q} =  \\dot{m}_3 h_3 - \\dot{m}_4 h_4 - \\dot{m}_5 h_5 $$\n",
        "\n",
        "Devido a vazão mássica da água condensada muito pequeno, podemos desprezar a parcela de energia da água condensado, portanto temos:\n",
        "\n",
        "$$ \\dot{Q} =  \\dot{m}_{ar} ( h_3 - h_4 ) $$"
      ],
      "metadata": {
        "id": "fknb7VqRIPAM"
      }
    },
    {
      "cell_type": "code",
      "source": [
        "Q_1_1 = m_1_3 * (h_1_3 - h_1_4)\n",
        "print(\"Q_1_1 = \", Q_1_1/1000, \"kW\" )"
      ],
      "metadata": {
        "colab": {
          "base_uri": "https://localhost:8080/"
        },
        "id": "ngsbtyOFWQCg",
        "outputId": "329083dc-703f-4a44-ee87-bbba59e06ce9"
      },
      "execution_count": null,
      "outputs": [
        {
          "output_type": "stream",
          "name": "stdout",
          "text": [
            "Q_1_1 =  119.66043387911665 kW\n"
          ]
        }
      ]
    },
    {
      "cell_type": "markdown",
      "source": [
        "## Questão 2\n",
        "\n",
        "Em uma pequena indústria, se optou por utilizar um sistema de climatização utilizando um self-contained de ciclo de compressão a vapor operando com o fluido refrigerante R-134a e condensador a água. A água é resfriado pela torre de resfriamento. A temperatura de evaporação Tevap=-0°C e pressão na linha de pressão alta de 1400 kPa. Considere a carga térmica de Qref=100 kW, o rendimento isentrópico de iso=0,85"
      ],
      "metadata": {
        "id": "PXyFBQZ1yCYp"
      }
    },
    {
      "cell_type": "markdown",
      "source": [
        "![Questão 2.png](data:image/png;base64,iVBORw0KGgoAAAANSUhEUgAAAYEAAAEzCAYAAADXW79aAABzTUlEQVR4XuzdB5gkVdk24CUJoqKAERBBggQBSZIkCIgoLDnIkjMrOYgkAVcRQXISCa5IUlBQf1BEYeUTQUDFQFBE1vCZs/gpinr+vs94htqa7p7OUzNznus618z0VFdXV3ifN79TFl100TBlypS88sorr7wm55oSMjIyMjImJzIJZGRkZExiZBLIyMjImMTIJJCRkZExiZFJICMjI2MSI5NARkZGxiRGJoGMjIyMSYxMAhkZGX3Bv//97/DVr3417L///uH4448Pjz/+eHwto1rIJJCRkdFzEPZ33313OPTQQ8Opp54a3vOe94Rp06aF66+/Pvztb38rb54xhsgkkJGR0VP85z//CV//+tfDcccdF973vveF//f//l9cV111VTjggAPCmWeeGX7729/G7TLGHpkEMjIyeoof/OAH4fTTTw8nnHBC+NznPjdMAtaNN94YjjjiiHDSSSeFn/3sZ5kIKoBMAhkZGT3DH/7wh3DBBReEww8/PHzmM5+ZgwDSuvnmm8MxxxwTSeInP/lJeRcZA0YmgYyMjJ7gX//6V7jhhhvCYYcdFn3/ZeFfXJ/61Keiu+jEE0+MFkHG2CGTQEZGRk9w//33h5NPPjmcc845I4R+vcUiQASnnHJK+MUvflHeXcaAkEkgIyOja/zud78L559/fjj66KNHxAGarU984hPhyCOPjBlE9pExeGQSyMjI6AqCu7R6wnw0N1Ban/3sZ8M111wTg8RTp04N5557bvj5z39e3nXGAJBJICMjoys88sgjYcaMGeH9739/tALSKgv+JPyvuOKKsN9++4Uddtghpo3++te/Lu8yY4DIJJCRkdEx/v73v4cLL7wwbL311jHb593vfncM9l522WUjCMC6+OKLwzvf+c5oBfzlL38p7y5jDJBJICMjo2P85je/icL9kksuiRq+n4Q8MigTgIUwzjrrrGg9ZFQDmQQyMjJ6BoVi/Psf+tCHRhCAddFFF4UPfvCD4Xvf+175rRljhEwCGRkZMbj7xz/+Mfrnn3nmmfK/W8Y999wT4wMzZ84cQQBFS+DRRx8tvzVjjJBJICMjI/z4xz+O3T5XXXXVmOnTKRSB6Rh66623jiAASxopEvj+979ffmvGGCGTQEZGRmzxsNNOO4XXv/71sa/P//3f/w3/T0dQ1cDWP//5z/Dss8/W7fnj9Y997GOxVqAs/NPiKkICTz75ZPntGWOETAIZGZMc3D/vfe97Y9tnaZ4HHnhg7AKaIN0TMajuXWuttcL06dPDU089VdjDEH75y1/GwPBpp502QvinhQDOPvvs3CqiQsgkkJExyfHNb34zHHTQQeHSSy8NDz30UPxdimfC1VdfHVZcccWY9fPtb387toGWGlqG92oT3Sg91DrjjDNi0Ng+MqqBTAIZGZMchLzirXvvvTc8/fTTsZcPgU+zT//fbbfd4pCYZkgWw0033TRC+KfF4kACuUagOsgkkJExiSEbSNfP7bffPtxyyy3hzjvvjEVf/r799tvjNkiAC+jhhx8uvfs5iBsoADvqqKNGCP7i4ioSF+gmAymjt8gkkJExiUHob7nllmHllVcOG2ywQVzrrLNOWH755eNUMIFgJJBcQY2gaEw8gBVRFvzFZcykeQN51nB1kEkgI2OSQjaPIO0+++wTvvOd7wy/LguIy2bvvfeOlb2tkMCDDz4YPvCBDzSNByRLAFlkVAeZBDIyJilU96oNMAqy7J654447wl577RWuu+66WPjFZVQkijLUB2gV8elPf3qE4E9LGqqYwJVXXll+e8YYIpNARsYkhVoAw1xUCpeBFPzv97//ffjTn/4UfvWrX40gioR//OMf0VpoVh9gIQopqIglozrIJJCRkdEVFH6dd955MT20LPiL69prr40porfddlt5FxljiEwCGRkZXeGLX/xinAxGyJcFf3HpMipu8LWvfa28i4wxRCaBjIyMjpFSQ1sZKykrSAfRxx57rLybjDFEJoGMjIyOIW6gPXSzVhFpcRfJRhJfyKgOMglkZGR0jK985Ssxu0hguCz0ywtRnHPOOXVbTmSMHTIJZGRkdASuIHGAY445Js4OLgv98kqFYhnVQiaBjIyMjtCOKwhJqBG4/PLLy7vJGGNkEsjIyOgIGsohgI9+9KMjhH55feITn4g1At0MrMnoDzIJZGRktA2tJVQSt5IVZF111VUxPdT4yYxqIZNARkZG2/jRj34Ug7y0+7LAr7eMlZQemsdKVg+ZBDIyMtoGH/+JJ54YbrzxxhECv94yfF5TunotKjLGFpkEMjIy2oKeQx/+8IfDscceO0LYN1onn3xybC1RbzZxxtgik0BGRkZbeOCBB+KsAS2hy8K+3hIzUEuQM4OqiUwCGRkZLaPYJkJr6LLAr7c++clPxtiBnxnVQyaBjIyMlvHUU09F3z5LoCzsG62UGaS6OKN6yCSQkZHRMswhNjxG3n9Z2Ddaqc10zgyqJjIJZGRktITf/e53sUJYVlBZ0DdbKoVZD3/+85/Lu8yoADIJZGRktARzA2T5tFIhXFx5uHy1kUkgIyNjVPz1r38Nl156aUwLbaVCOC3BY5lBea5wdZFJICMjY1R89atfDSeddFLU6MuCvtm64YYbYhD51ltvLe8yoyLIJJCRkTEqDIIxEGavvfYKH/nIR1q2BtQGCArff//95V1mVASZBDIyMlrCM888E7uA7r333nFgfCszBM4666xIHj/+8Y/Lu8uoCDIJjAGalc77nyWIVqWla2TVVrPzmNEfOOcPPvhgOOyww+IwmU9/+tMjBH9xGUB/7rnnxlYTGdVEJoEBwgNEeNGK/vCHP0ThWoTg26xZs8Jtt90WzW2aFl+q3OxPfepTUQtTdSlHm6/1+uuvj5OdPv7xj4ePfexjMWvDmD9BuCuuuCKa7Xq8XHbZZbHEX3rfhRdeGDs6yt32cFrS92hrujxaCntoeqo8+XOl+Anu6R3voZbtccopp8RMEemCJ5xwQswdP/7448Nxxx0XFwFhHXXUUeHII48MRxxxRBQchx56aHjnO9/Z9s/i8trhhx8evvnNb85x/jIGh9mzZ8d74eCDD473Yln4W+5h27j3MmFXF5kEBoAk/B977LEoONdYY43wrW99awQJPPnkk1HAEu6f//znwxe+8IWYlnfnnXeGu+66Ky5Vl5ZAnfW1r30t3HfffeHrX/961NC+8Y1vROFo/9/+9rfDd77znfC9730vPPLII/HzH3/88fCDH/wgPPHEE+GHP/xh/ExVoB5q5PSTn/wk/OxnPwv/+7//G37+85/H6VG//OUvo0/4N7/5Tfjtb38b88V///vfRyL705/+FNdf/vKX8PTTT0eNzzJHlvvgn//8Z1zPPvtsT7V3RPfQQw+VX84YINwHFIr9998/KiFlEmAlUCC0mcioLjIJ9BEEHuEnKKbXCu3Vg+EnYVuGHu0zZ84Mv/71r8v/yighk0A1wHrVFuKAAw6IP4skQPizKO+4447y2zIqhEwCfQANnxbsQTjwwAOjm4RmT1Pn7uFmoWGXQSPn0skkMDoyCVQHrD4uSUTADZlI4OKLL46ZQSzSjOoik0APQfgbmkGb33PPPaMWxHXDRZMW/6n/c6eUwSXDp59JYHRkEqgW/vGPf8T4VNEiEFsSb+JKzKguMgl0ieTv50c3bk8etcpKvvqi8E/LNnz89bIl+OSRQH5oRkcmgeqBRSA2IFjMFSR5QMxATCijusgk0CGS8BdclTVDA6IJ8f+XBX9xyaR5+OGH44NRTr3kDpLRIyCbUyGbI5NANSFBQDbaIYccErPDKEQZ1UbfSCDlutfDeBZqSfg/+uijMRXSzS7Ya9pSWeDXW9IlBYDth8AXM2A9WDvuuGNYb731wi677DL8msWlRMvKeA6ZBEairFSM1ZJNJtX4zW9+c7QMyv/vdjWSKxmdoSUSoLVi+FaFt+1ou/LbZQ8Uwd8tfdHFHE9Iwl+qJQ1Hrrp8/pSW2eqSL58yg6SCyq+XOWSxJjbffPNw0EEHDb9mSf8UaM54DpkE5oR7U7M2tRhqKaZPnx4VlOLP8muj/T+9Vvxf2nej7dN+p02bFklg2223Hd62WPNRrw6k3mvl/yV3a0bv0BIJOOkve9nLovBKROBn0vbL5HDPPfeELbfcMhYqJfJI2yIARUtJqDXaR0Kzz0nVrMXXy9un37vRHryX9k5guxkFvdoV/mkhkHrpoSCuwDqgSWU0RyaBOSEwq7DwS1/6UvlfYwbWa73YVzcgWyhPZVmQ0TlGJQECcKONNooahiBP0uC5QwjGm266KT6MScgqIOLyUEAiAKrAiOD/n//5n1j1KjVS8VIy7VxUwVAFTnLqy1AIpaBJCtqXv/zlYfLgN/fZUioVP6X33nvvvdFPb3vbOE6++uuuuy7+3Q4ZuNF8H/1PuG3acfvUW4gDkRD2IJOIwHdOLOdJ5a4Cr/Sa5UHKN/2cyCQwJwhcloCCwokMz/eNN96Yg809xKgkQDBtvfXWMWi5wQYbDAth/vD1118/avsEYxKuhD6Bufvuu0ehSfgvu+yyMVMACaiARRJ/+9vfYsuC3XbbLQroTTfdNLqPyhd3iy22iL5y7L/DDjtETdl7tU8g3GfOnBmPi5vGMfj9He94R8xXJmyVrEvLZH2wThBBsg4awf8RlOPdZ5994meMFvBtZSEBbRYSCSDKRRddNCywwAJxzT///GG++eYb/jstn68aN+M5ZBKYExQFJDBr1qzyvyYUyBrPfn4eeodRSYDAJqQJZ2RAGBKSSIBArqe9e11vGu+hyfMLJrPw7rvvjvvkJlpzzTXDT3/607g/+xUQ9XoRSAD7+5zZs2dHQS7HXqyBpSEVbeedd46CEjkIrCZCAG0OuG8EqJCWm8j7CRGaeBmOheXB/6ioS2uGsjDvdPHtI0MtGUB8BLmyqCznwGfaLr1mOSfNSGsyIpPAnDC6Ua8p9+tEBqVUDy0tKzJ6g6YkQKgutthiYZtttokau543gj4EMhKgedQL8JZJQMDTviCRgIuIBAhpIOze+ta3jphDigS4ewhBQnvjjTeO70EYirH4QWnULBJEIxiVYhdcOW9729uiFaCZ1WabbRYtEzcSMlHMou9NguNFeCwZ23fq92+0fLaGbPWqhYFryPfIMYHRkUlgTlBskMBE79tPweMxoDxm9AZNSYDPXeUrzZgWThivuOKKURh3SwIEdtLyBbVo9F4vZxPZhhZve/5O2QFu+HXXXTcKU5+x6667xuC1bbiVknUhQ2nfffeNGrdjRjrMZcRh2AWt3KQk/7NPo/MQA2FdFuC9WGIafP6pGCwFrtMi/OVYJ5dVWhkjkUlgTrinkMBEPyfifb7n97///fK/MjpEUxKgYRO8RUEkZZF7ZcaMGbExVD03BW3aQ0pAE37vete7hvPcVdJqL+tv/5MS+fa3vz0Kexe4vD+vOw5xgeTOYYko0PLeqVOnxhgAokA0LIQkRH0GEttqq63i+1kF3q+dcgry6nKIDLxP7KCbwO9oy/lCjqkthNdYHEjJ4tJSbSnYnV6zVBLXc7tNZmQSmBPiTIQjxWcig4InNZs1n9EbNCWBQYEl0AhcRPzmAtJlrRjJlF+rB/svbkfo08oJEYKY9s1CSX93s+zD4kpKP5noLB6+TJaH4Dkg1BVWWCG85jWviWuJJZYIiyyySPyZXrPMDyhbSJMdmQTmBEsdCcgsSynRVivPR9XhO6Tvw1rWjNHzlNEbVIIEmoH7J7l3egVuH0K/LMDbXUVh76aktRPyhPt+++0X9thjj5hdJI5iuIpuomYENMqdRg7cWo1iBhnPIZPAnCAcuThZksVCLpk041mBYAHLKEzfy0+xQGnmGb1B5UmgH1C1y81VFuqtrKTpiy146GQREfZuUPUE3Dv8lQLcZdfWaBDwltKaSWB0ZBJoDkqTe5zrtpxxN57A2vc9pGtn9AeTkgQUvrVDAknwy0pQ7EXo0+wVrchE6tRfXzRzLZaATCb+3Ylm0vcamQRGhxRq/vOUlDEe4f6ncLFoMvqDSUcCbiqtH0ZzBxEwgsQ0e4KfW4oZKiDVLIbRDhTA6SrKPWWxKqS4MnnTa1buHTQSmQRGB9cjEhjv9w4SkLSR0R9MOhKQ0mq8YzMSkCJqGIbMIjN/vdYrwV+EmoAUO7BkKK211lqxMjq9ZuUuoiORSWB03H777XF1aqlWBZkE+otJRwJcKyyBRu4gGRYqkJmf/PqDdMWoV5C+KsU1ozkyCYwO8QAk0G5sqmqgBCGBQT6LkwkjSKCXN0y52Kkqfm5ZE3L2U2ZPkQS8priNX37Qx6h6uZckUO7DXm/REltZAnTlxTrq5f3SDjIJjA4KDRIY72CZi7+Nd4umqpiDBKQuGn/YK+FnwDSfuotHwMmekZkjMCtnvtwsrt8QIPOZCtb43R2LHHx/E/6JFARnFbwNukkVy0OKaeot1A1khAheK7Rj+bS7XKN6iystLYV8Y+VzziQwOiYKCXg+PafZJdofzEEChKQh0UmDL2avlDV6WmTSAutp/CBvXmGWi6cN9WmnnRYef/zx2FbipJNOiq+nz7C/8j7Kn1/vWPxePJb0WnH7BEFYJnLK05fKqYKXX17XU0JO8JeA4RJK3T4HBSTgPPWCBLTBEHNQbdwveDC1BRmL7JNMAqNjopAA5UwLm2Kfr4zeYYQlQCgSoAKnWivo50NIqkT0OsFIw9Svh4DnEuBfVxWbBDSNPw25sI3/velNb4pdSC+++OJ4QU8++eRIAky9lGtvBkDSKm3HWtD7x6i6J554IrafMHVLD6PkytBqYe+99x7u0+8Y+A9ZIHL3afuzZ8+OS+bNdtttF7VYOflecxzebz+PPfZYnG+gRfWZZ54Z/x6kCUp77xUJSDdFto0G2PQC7g9dK8eiGCmTwOiYKCRA9rjXcv1MfzAHCei6qTEbQYoM9OYncKWaaczGlYIQCHFBzDQIRlM0g2H87r2rrbZaJJREArZFJoqrVDZ6PZEAl5GKYGv77bePQth+9AnSn4gmK1tG7x8dBAlrPn1aAYFJ+NuGVsqX7ztwgTjOpOnr4a9fD01fjyEN8Xy2XkLe5289iFgJY2lycj853l6QgAeGVdfPbouEjOs1FsVImQSagzI2UUiADNKsUm+xjN6jKQkQsn6n1WsjTUBqhUwo85kT6G620UiAdu9nigO4oIkEXGD/I9hZCywAr2sZrWeQ/TsOlbTcDoKm5hNwd9DsNaPzHn781VdfPQq/1PjOcdPmafo0f20bkqD3uTvttNNw22aBJ+4q+x0r0Kh7RQIsAITZi301gh4uLMZy++9BIJNAc7CUkQAFbrzDvSz2xCLI6D2akoDGan4nuLVhJoTdXNw7fOcrr7xy1MLl1JvklTJJvN4KCdjG6MpZs2ZFIW2gSiIBAj71DJIxkyaKEfK0dsJ6k002ia4b2ii3BP+0z0IC/vZZhL1CL+6RIgmITcjLTyYmiwChjCUJOB+mrXUbi3DOaE3OTT9NaBWpGvHVG87Tb2QSaA73PhLQd2e8Q5tsCocAcUbvMYIETOaqRwKKmAhhLiDmP4Glw6e/CXeCl4tGFaxxkrTaZiTgb+6PtddeOwpqGjlC8LmEdHEuABJAMj7fdobcENaICJlw9dgX15L9cwsVSYAlgATMCpB9Y4CNfclukSqKgLSj5ncciyBnQsrO6pQEnCvfmWDmfvN9+qmlI29CZiyIM5NAc3iGPGfuhfEOz6R7mbLJsi0mhmR0jzlIgODmh3eSCcc0S4D2T0smYGjk3EEEMRdNyheXeaNvv4eTD95r8u41fmId+OmhtS/E4W/v5bO0P4JaNgvt0uuCwYSLzydoCByvp1iAY/UZ3EDeL54g5kCQck0JJPsspIFAEBetmMsHSSAOriLBY99F986x8G0X4WbvhAScI+eYa0bQXiyA9tTvhwXR0tDSdLhBIpNAfbjmqaMohUq8ayLAs+/+Nv+DXPJsZ/QGc5BAxtiC9ia+0g4JeOhZNiwillsaWDMI6GnEvZbmIwwSmQTmhPuAEqPJofRrStxY1G/0G9zPFD8KKOWj34rOZEAmgQqBZYMEWs3ooQ2xqLjW9Fcvp7N6QJqtbpHabKRxmYNEJoEhuI7uG1aZPlfiQGPhnhskWMwCxawCikixFiijfWQSqBA8zGosWiGBZDXIACo/9EkwCOCrmTC/WQ2G5XdLMJ1rrRsykK1B8+xn8LkRMgkMFVRKg+Y65SKdPXt2eZMJC/et5A5xAuNYWUHd3MuTGZkEKgR+z1ZIQNyDFsQfXy7UYh2InxD4rIN6dQ8eFjETQXwxmE6zex599NEY7O9nGmojTGYScP1YX+Jzp59+eoyxTVZtWOKDuiWp6+7HTATtI5NAhcCdQ6trRgKIQpbTl770pRFjKj0QNH8aequtrwXHPUSdZF0gEt1Wmx1vvzAZScD1kQVX9PvXI/nJBgT48MMPxxRz92M+J+0hk0CFQItvRgKEAPeP1NtyHxUWQZp01q4wF9iVgtdu51TFfEinn60pGmEykYBrgvzNsZalNxn8/p1AoJir0zPk3mznXp7MyCRQIdBo9CxqJFRp7Xy/5ewhNzshLnOiU7eAfcopbyfdE1kRSGPhi54sJFD2+xNuGY3BmlZUltyl5WSJjJHIJFAheOC5euqRAEHP/6t/UlnQ8/0TiOX4QLsQH5BX3uqDIx9dLyYpqoPGRCeBst9fJlb5umc0hvYyqVZiEDUz4xmZBCoEN2ojEiDoFcGlXkdF9CpNE4mINbS6L1aDzIyxKEiayCTALaiIkt9f75+xrGIfz1AnwbpVIKpbcSbR+sgkUCE0IwEFMgK+fMNFuNFT64tegNBpdbKZNiOpOnvQmMgkIOAvWG+sYkb3kDXkfpEynTESmQQqhEYk4HV9kur5g7lipAj2agqaFh2tkoBsJA+X/kyDxkQnARlAtNeM7vG73/0u3teZVOsjk0CF0IgE5PFrfFcOCIOmeYpmepUWJy6ABFrxoSIefZkELgeNTAIZrSKTQHNkEqgQGpEAn7sAbD1fPQL47ne/O6JmoFMggVYrgPmqBd8cw6CRSSCjVWQSaI5MAhVCIxIQFFYDUM/vzyWjq2Kv8sbFBFolAQVpmtZJXR00MglktIpMAs2RSaBCaEQCAq/aQNTrEOo9vcoOkhraDgnYXjdHgbdBI5NARqvIJNAcmQQqhEYk4CY2ca1Rjx43N6JotVVEIzz44IOxDqHVlETHK2vJewaNTAIZrSKTQHNkEqgQGpGAvHGvz25QmSttVEvpVgO69UDwfO5zn2s5Myghk0DvkUmgt8gk0ByZBCqERiQAuovKwmlU8OI9Cow6GfCSJr+ZS9zOxCZtKtQJDLpi2HnKJNAdnEP30iCXzyyuQSGTQHNkEqgQmpGAgjCDNMqN44pAEnoItVombxtVwjovCj6XC9FGg4wlw0xadR/1Co7bCM1MAp1Dfx2VtMcdd1x417veFd797nfHEbGqlE2pM6DG//Xg0aZZh073pt5WFBJ9/M8999zYlkH6sjngXJZiRJIFjIrV8gJZUxRUlrtf9JrSwtz93K7V2SkyCTRHJoEKoRkJELQexHoFY0XIINLZc9asWTFzqJ4GZqVGWwLOnTSeQx4EwFi4gjIJdA+uPwqD62ggC+VCBbgsM/eQJAQtSiQJiEWpUXFfzp49O96D0pbFoRQKShGWHOBekK6sduVb3/pWLGJ0jcSaTAC777774j0nDVl9CSIYBDIJNEcmgQqhGQkArYpgaEXz9mB+4hOfiK11tZ5GCh4CDz9tjFamDUWnc2jtUyZRpwNpugHCQgKaqk1EDIIEzIa2xgJIBwEgg0Egk0BzZBKoEEYjAZo985wW1oq7B2xHy9P22X5peu34/euB9sgdQOsbCzj+TALdgWsRCbR6H/US7mMkoLnbIJBJoDkyCVQIo5EAeHAVjrmxxwosCQ8VjW4sgAT4mTMJdA5C2L3UbhyoF6CU+HxFjoNAJoHmyCRQIbRCAlwhgnMERK/6BbUDPmGBwLFoGpeQSaB7EMBIoNsZFJ1A7AEJcFEOApkEmiOTQIXQCgkATeqUU06Jc1VbHQDTC4gfOD5BvkF+bhk+GwkIPE5EDIIEZHUhgbGI6RDK4kn33HNP+V99QSaB5sgkUCG0SgLAxy+dT3C3Wx9/K0jBWIHlZmmqgwAXRiaB7vDAAw9EEuhFu5F2IfsICSCiQSCTQHNkEqgQ2iEB4JqR280t0k/fruPSn4jgHVRudzNkEugelAck0Oq91ktIPzX/V7roIJBJoDkyCVQI7ZIAyOVGBDSrfvh3HRNhoT1EO8fVTyABxUdy0SciBkECCgtd17GYCsf6UN0+qElfmQSaI5NAhdAJCQChoXDL4iZqt/CrETSkU0/QrHndWMBxZRLoDgoEkcBYpPkqQEMCXFKDQCaB5sgkUCF0SgLgvSoyjznmmDifVsCvUzLwPkJC2wAl/rI5qgQB6kwC3YEFiQRU8w4aFAokMKiK70wCzZFJoELohgQSCEgkcPjhh0e/uYdd4Ni+GxUGpf8R/nz+559/fnQxyT7qZ6yhU2QS6B6IHQkMKjhbhBYUSGBQMZ1MAs2RSaBC6AUJJBDed999d2wMdthhh8XGXiwFXUbVF3CpEKaqNzWPmzlzZjjyyCPj9sz0TttJDAKOzfEiqSoC6Sbi7QS9JoFE8sXlM5DAoKp2i3B/q1ge1PXLJNAcmQQqhF6SQBGEvqZetGf1BUcddVS0FI444ojYQVLQl0aIEDoVXIOE71NVEtBEbc899wwHHnhgx831OiGBojVnUQJUdIsRufZy8vXqsexXdtB1110Xs3TKLZ+7WWWyqbdmz54dU40dV/n95X30Ap2QACWJwtSrsa1VRiaBCqFfJDDRoIFeVUlA++QNNtggvOENb4jtPYqCrCjckrCrh3ZJgLD60pe+FN1473znO8M222wTNtlkk7DxxhuHt771rWHHHXcMe+21V9h///3j2mOPPeI2q6++ethss83CwQcfHNchhxwyx+/W9OnTw6GHHhqtSUoDa5ESIfZ07LHHxlbUrEftp08//fTY6fbss8+Ox8L6dD5cK4SjZbnGg9yUlI+0z3333Tce33777Rf3rz+W93EZIVJ1KSyrZuesGdolAZ9h+xVXXDFst9120aU6kZFJoELIJNAakICsJZpklcCSIkAV8e29996xJ38a8uPaEoCEoX77u+66a/wO9dJ62yUBcZyjjz46CvtLL7003HzzzVHTTp1CGy3CW0vn0YoNCV/bqNRObkTWmONMrajFGOT/8/c/9dRTsa0IN6O4DfciS1OrCu0iNB/cfffdY9zp8ssvj+3MnRcdb/3t/84ha4oQRmgbbrhh2G233cJnPvOZtomgXRJAOkhsqaWWCrvsskuMsRWRSLxouYxnZBKoENxMZ5xxRiaBUVBVEuBfJ/wJcILtoIMOGhY8ri2hu+SSS0YN28wHPfjrxV7aJQGQ709wnnjiibGwryzw6y3b0tbrEVE/QcN3rMiqfEz1FsHP0mA9dPJstEsCiIv1c/zxx0ci5zol7AHRsVKStcSaMmRnPCOTQIXQCQnQzroJQo5HEJJVIwFCwgQuAoNwV4xF26X1u0aJBLw22nF3QgKgcpx7hjulFUtACrAakEH7vQ2zcZyEe/mYyguhzZgxI7qfWBadoB0ScB25rXbYYYd4Pv2+/fbbD18zlo5jX2mlleL0NOmugz5/vUYmgQqhXRIg/I3484AYIjOaWT9RQHOtGglwgXDxEMCCsQqi+Lf5vWnpiQQs/2uGdknAvlkUssGQDA2VC6MsUMvLsUoK6GQudTcwz1o8oRWiomX7PgLanSo67ZAAoS55QiyE60stA4vO+ExAAtxYLD7/nwjIJFAxtEoCHghmKU1FV0+msgyQsWgvPWggAf5jGS5VgaK6VVZZJSy44ILhRS96UVzPf/7zw+tf//qozSYS4IIZrWlbqyRgn6wMPndCi/+aUG9FuFosAdsTkoMEgqK4tHKcMtoEjKdNmxbdSO7vdsmgHRKwzbbbbhuD395jOp9sL/EIMR8kIACOxCYKMglUDK2QgIeAT1nWhY6MIJjFbK5ihW+v8fTTTw+Px6wCCCZZLoKzKq0TCHsaIzcRAdIrEkjCn5bKd81dcc4557QcC0iLxism4NgGCe4gQrTV40UWAsaIwPmcNWtWtHxaJYNWScB15OJZbLHFYoaXYLS12mqrhTe/+c0xqI0EWFCZBDL6htFIwI1PI5IFUk5d48+kITOhCaNWH5LxBiRQJUuAJi4zR6vtsktOpou0TO0ZuBEERDslAddT/r99iT0Q/q61rKOy4GxlISRCr15wup8QCxB0bSUmUFxIg+XC7SattFUyaJUExHKk2LpOxX0+9thj0a3n2nH1ZRLI6CuakYAbU6qdPGw3YyNo0esBV5ZfxbYP3UJKYpVIQDzAdanXZtt1uvfee6MGqa5BHGM0l12ZBJLP39/SJgl/90A7wp82XXa/sEyuvPLK4cyXQYESI9tHbKB8nK2sIhnss88+MfW0mZuoFRLwXudHSqqfRXA/spjUVriWLG7u14mCTAIVQzMSIEBoIYROArfAn/7055qQ+Mcc1ZYCXIjAA0dznkhAAlIwx6ID5iCABLhMxHi4amjMXCE777xzHO3ZrgZN20/1C3zciRBovFyKgwZhzK/uGqZjdDxIrR1iQwaE8zve8Y64/O1eL5NBqyTgXCPyegFfRCCgn2oiBh1H6ScyCVQMjUhAhgnt6Yc//OHwTU5YHHvs+8PCCx8ZFlnk0LDRRoeE0047qyYcHxku6NFemj+V66j8cIxXeFgnKgm4RgSZoL8qWtqnn/4ua/KjLduzGLhOZJEpRLQ/sQuWlJiAGNKgIfXygx/8YCQngpsbTfB3nXXWidXMjq38XZot31PRm3iBoC7rxv2elKJWSGAyI5NAxVCPBJJWz2eZTHc39t57nxxe9KIv1S7i34LLOGXKv2rr8bDAAmfUBMd7wuOP/yBaCjRHmpfc9UGb/v2AIDhBMZFIgLBC2pr8yUzZcssto7BWSVsWeq0s7iT3TCpYSwoATZcr5e1vf3td18cgoJoYKfmeCI5bR8aQY5MNJBtHfUW7pGdRDsRL3va2t0WSc48gBEHdTAL1kUmgYiiTgEIUD7MqxjTcXdXiTjudGBZc8L7aBfxHbT0b5prrx2HuuZ+q/fx77e//RDJYbbUTwte+9s34Pj1Y+ID5lQcdCOw1kMBEsAQIZoFkQXxaMV+/ALNgMndQWcC1umSOSRnlt0b89aA2QIC56FocFLhVTj311Ki1c1eyaBO4Ygh/5KAPUSdEYKlGlpXF8rHc+/orTYQ2D71GJoGKoUgCHg4EYAxf8lOyAHbc8cTw/Oc/ULt4/6yt/w3LLHNC7YE/PcyYcUZYddUjwnzzfee/VsFPwmabvb9mEfwwvpcvU0xBbYGhM+MViQQ6rSAdSxBABJHUXoKesNPkTd78tddeO0KYtbMITGRCk+YGrKrfmlLi3m6kjDhHkhpk5NDqOw0gW9xN3EMC6ltssUWs9lVXk7KKMiFkEqgciiQg+4VwkFXiweEr3nPPk8MLXnD/fy2Ap8NrX3tyuPfe56wE79100/fWiOAH0SKYa65PhUsu+XwUnEDz5INljtt2PD4ECIzAHC8kkDR+2jfXHIG0+eabhwMOOCD6slvNl2+2BFT1uUEA9jcRssK4QcUxxAm4iTq1CtJCJmIkrC3uMHEJ9xAFazITQiaBiqHsDpJiyJT1ABx88Alh4YVn1S4al8+ztd/PCLfcMmtEyuHnP/+FsPzyN9e2+V1t/V9N0/xQ+P73h6yBBJknAs1FN9N4AYumyiSQtH2CmLtFBg7hnAQ/bb3dDJ9Gy30hPqIWgZYrp30igcUgo0nFLvdOr86bNt8qprmktt5660g2rA/NCSebyyiTQMVQJgFwY06btldYcMEDaxdsdtTw55//inDppbcOa/hFEOp77PH+2vaPx20XXvhD4atffXzEjc0XLW3wC1/4wsA7SXaDKpOAY9NN1HmlbQpQCvDqod8rAZaW/Z155pkxsMrlMejK30HBfSs9WlU2EhXzKJ+LbhZCkDihaRyXkUIww3a47CYDIWQSqBjqkYCA1nLLXV27WB+rrZPCXHOdF44//vKmlae33HJrWGaZO2vb/7m2/SfCxz9+7xwBuASvCURyEQk4jwckEuh0clc/wb2jgEklbytN3DpZtH/fn1tJhauUy4kuqECSBCtqp512ivdsL9xo5SVOo1mctNpNN900ZlCJP403a7kdZBKoGOqRwCGHvD8stNAP/+vj/2xYcsmNow+4nlBP4DffeOPzwzzzPFV73zfCqad+qmG3SALEzS8bQ/pe1dNICQOpk1UkAQKDa6GbYGazRft3nTSLU/8x0ftEleHeFNhV/IYE1Tl0GytotOyXC0pRXbkdyERCJoGKoUwCcpzXWOPCmvD/We1i/SGsvPLR4atf/XoUNFwMqYFcPRx//FlhkUUeq73vt2HPPT8cZs/+cXmTOSAALRtJaXyjzI0qoMokwH/NRSMDqyxUulkEkuCogihuEddqMmj/jSDzKVkFznc/rALLc6beYCIjk0DFUCYBGvpSS30qEsCUKf8O8813RU1QXxp+8YtfRm1TcEsVcT3tneBYbjnFZH8I6633ofC97z1R3mQEkAr/qDzrqqaREgBVJQHXhODgZy4LlE6XfdJG+f75wydaG5BO4Z5PU8Ck2uos22urAMF4HiYyMglUDGUSEBQ+5pgZNY3+lujf5xKae+7P1jTCM8NTT/04BkdlhWhgVs4SEjNYd90P16yIn4SFFz4v3HPPo8NTyDxAQ0v64r/Ds8/+K/70mpQ5vm2+UdlJVdM4EwmooK4auGuQADdFWaC0u1KjNK4f6Z8/+tGPyh+XEYZ6SSFHvZVYst0U2pWXNFK1NRMZmQQqhjIJgKDUWWddEF71qpk1gS7t04W7L2yxxcnhu999LLpHdDYkGMuj7vbc84NhwQWfqG1/R41MrgjXXnt9OP/8i8KRR54Ytt/+sLDOOoeE5ZefHpZZZnpYc81DatsfE2666ZaaoP19DEgTPjIzqhQYY60QslUkAZooEui03YNVTPsUoNTuoErnv6qQjktr5yKiwPTCRSTA79mayMgkUDHUIwGgjV9zzbVh6aXPrxHBz6NFMGXKD8Lqq7+7ZgU8GK2AFJT0MCT30AUXXBoWW0wF8V9q6wv/XY/U1u/DUFWxm6C4/hILzDbc8F21/T4Q2w6oJ9CAq1kgepAYDyTQafUvN5y6EFXEOmRW1SVXVajN0BolESgy7cZFpLgsk0DGQNGIBBLuuOOLYeWVZ4S55/7Rf4ngV2GppU6saT13RdeRaVMGdsig4NbhJlpppc+EocKxssD3/uIq/u8Xtc85rfZAPRQFkZQ8PtdGGUaDhGOoKgnI2urEHURrNR2MFosEtH0oD5XJaB3qZxCx6mDuUuRaPuetLJZAdgdlDBSjkQDIC19vvZPCfPM9Goa0+afDIou8N1x99a2xYEi+PzeOG1/p/YYbXlDT7p8MAstzzWU9XSORx2vrztr6RG3dWFuzaq//OqhEfo4IfhB23fXi8MQTT0bLQsaLQJm21vUC0YNCIoEqVsc65+0EhmmpajS0RpD2iLz5uOtNFstoH54lKbXy/Wn17bqIckwgY+BohQTgySefDG9727vDAgtoJKeP0D9rv19Ye//MmpD8bTSLBXdpl1OnHhwWXvjU8NKXHhPWX396OOigo2ua5vkx62TWrFnR50xoHXTQcWGxxd77Xyvj35EInve8y8JNN903nDKKgLiHTC+rN3xjEEByAoFVJAGxANdwNM2T8PcdNEmT9SOYmaq2y5PFMroD96HW1OYFGz7juWjVRUTpkYE3kZFJoGJolQSAMNx99xPDC1/45TA0U+A/YZ55rq8JlvPDT3/6sxhHIEgIGUJeYdFomT76p2y44Yww77xDLSemTPlx2HffK+doOax2gXZEcNVrW9FvVJkEtG9wDQnxskBJy3ljqWlTcPHFF4+o/M4k0FukoTJaQdx2222xD9EhhxzSUqEZq861Gu25Gc/IJFAxtEMCIGf8yCPfGxZZhN9fCmkIc811Z9hxxxmxaRy3jfm2etm44bkaRsOXvvTl8PrXfyKIN9jfcsudE+6/f86cfJaBYh3BS/sf5ENCaCKBxx9/vPyvMYeUTlWmZWFicUXw9fP7S2UUdK933jIJ9BblyWLciSa1md/guWiWUiomoFisKkkR/UAmgYqhXRIArp8PfOD88MpXXhNUBw/58x8Ob3rTSeHBB4fSO2UPEVA0TxOc6gmfBMRxwAFn1SwMWUShZl1cFW6++aER7h/7MLFJWp6214MqrWeJVJUEBNCdj6IgSX5/nUS1OuBKa5bymUmgtyiTALh31V0YbiNewG1aL16AtG3jmZmoyCRQMXRCAkBwX331x8LSS19cSCH9SVhhhRNrD8BXh336HoY0dq+ZILr++hvCMsv8T9CKesqUe2okc3vDISX6DdnnnXfeGTOU+g0kwL1VNRJAkqnCNAn/5Pfni6ZxtlLtm0mgt6hHAgmeARPWTGLjJirHC8QSXM8qdqztFXpKAs20y/GEYkXtoL9TpySQcNttt4eVVjqjkEL6h7DYYqfWhNHtwwKIBsQMpsU3aiGtJcNaa3EJIZSfhIMP/nhsPd0IYgNMZ7UKzfoZ9QJVJYE0BMV5IMRpkI38/s2QSaC3aEYCCZ4DQh9ZF+MFZkHILlI4OVHRMxLwADCFW/E5Vx20OTeCPvCEYTONudfolgTAOMp11z0lzDsvd44U0r+HF73orHDhhTcOVxS76ZnANJ96Akqq6WabXVYjE91LnwnbbHNpTeg+N6+2SJTaTVg0YdkxUvH0M+oXgZpRiwQazc8dK9AoCQyzfVO+P6Jq9zxkEugtWiGBBAqMWJe5xKxb97M0UTUyExU9IwHBsGWWWSZ2UUy+YTd/EhblB6He/57rZ/NcDnr6v30WXy8KofR62mdxm+LnpH0UtynuI70uQ4bWe9ddd82hKRc/s/x9eoVekABw0bz1rSeEBRZ4MAzNIv5XmG++j4QTT/xwbD4HvgM/KHNXpk3Rp+/3nXa6KDzvebKE/h022OCi8PDDj8Xv/sc//qlmRdxZE3Knhc03nx5e97rpYdllp9dIY3o4//zLw6c+9emYRoqM+jHmkH+2iiQgLfQtb3lL1CYJnE6/eyaB3qIdEgDPBSXGPWzymPoNFt5ERU9IgAa47rrrxvQrFXqpkZmhGqlQA5sWA4t8pf4nQk8jVf2pzHvLLbeM04Nopy6GoRm2M6WJz44W6HVal8ZaJgG5WKpaCTQklPzSWu+6+LT5/fbbL055oqHxhxNy3CNM9q222iouLZQJGF0J/e0GUHHruO2TsDSKzvexbTlQ2imKZIUEEFDxtbTahXO4224nhRe+8O4wlEIqc+jWsM8+Z4Unn3xqeJ8IQLYK0iv69Pfd9/zwghdoRR3CCiucG84778qahXRKWGyxo2oWwg3BkPs5W0/4/Sth/fVPqgnEz8Zzq4K21xOvqkoCJrRZo6XNlq9reVE8xA8yCfQGiQRmzZoVz29R8Suv4nOGxAXxyQxE0KvnvWroCQkYp6fPOeG/wQYbRJ+zkymyTpjKTy9njiAFhOECOdmEvLm3qYOlPHQa0SqrrBIrVQU2mdcEO5fT+uuvH6srfaY+IXqEEGYEtzxy+6SVERQeSu9xDHKFuXl8rp4gLBjHZz9IwWf6mwuIRWBKFOIRIOJHl17mxkBevdDYCUg3qMIta9q0aXFYSPo7Ldt0Iky957DDTg8LL/xcCumUKffWyPb08O1vPzJ8XZwjbjDnMfn0Dz30grDQQkMkMNdcV9Z+Wj/+r7AXb1BQZpXbTvygZk5fEB566Fvh0ksvjeY1d2EnRFYPSADZs3bGE3x/ys7tt98eFRaC3r3N/yyW4t5O3VvdmxSQjO7hWefO4eKlUFJOKD3kiZYS5MGRRx4Zlc8LLrhghPvXMzR79uyWgvrjET0hAQQgBY5QJCiT1o8E5JHXM4tto7CGcHeRllpqqWgJYFzmNJ+ck7/OOusMjz3knxN30NVy6tSpw/5t7XvNBSXIWAf33XdfuPvuu+O+bCOQaBCHVrNIAjnQkhGU4RxFgmJRsCzsx/arr7561MxZEoJDjtfDvNFGGzXM824HWjAYQM6VZi2yyCLhNa95zfDfaTlm23YCxzxjxrnhla+8LjzXQ+jxsMYaJ9WI94Hh60MTIlxZI8zhww8/L7zkJUhgSODPNdczNQvgB7V1a5hnnvNq66S45p77otr6ZhjKJBoignnnvS585CNfjuTLQkS2LDCf0S0QyngkAfcZQkS2lBHZVO5TGr97lnWrP750W0JnIuemDxLOO8XGPa2mxe9kRVL6PB8pS4gSVOWBSv1A1yRAyBJSTKYkON/whjfEE3zuuefGooxGJICdkQVhv9Zaa0Vh6+JYTGIClsafSIDGJOhI+BKKLqZtvE5w2w8XlAo/xCS6T8NHTJpJ2SdrQcYGYmCJ0OodXxLmNNfzzz8/WgP273McFxeR7AHuEseMBDoVymUUXQE0lV65g4ogfD/ykatrZHtZTZj/4r/C+pe1v0+uCemvzHHjI0bnbP31dwsvfOGnagL9yrDEEkeG7babXhNgZ0cBRgA7R5b0uXPOuSCssMKpNVJIlca/rZ3nj9Q036EMHhqw68JqLM89aBce5PFIAq4hzZ/gz6getERhkQ0izblK6JoECHkmVVHQ85m70VP2ST0SkEaXSAD4/kXjCSCakfd7H/dSkQRYAgiGICewBR8NhCZcbE/z3HjjjaMbKRV40Gz1/8D0PkccgSXAr7z77rtHXyHTm6bgeJmG9otYEjkRfGIS/OaOgWmJSHqNXgWGG+Gzn/1cWGmlD9Y0d7OHCetv1oTzp0cMmUeABx10cLyW/NytaKUeovXXv6S2b83qQnj1qy+qXcdvD/+fwoD8WXTdpJEiAcK0VyQ8SDhu91BCmejzGrvF/UtZbOVen0jomgRox5qZOYkJ2hkzbx944IFo2tZzAfgf7TC5YlJ6If+ceEAK3gogp4tCiyfICXsaKP+ddDwEUAzacD8QXEnjRBq25QNELjIvkqXBxWM0nWpO6Xw+i5vKfvnhEUVKe/U5fIksHARQ/M7Fm6ldeE8KTLEEZs+e3TRg1S0Q3mqr6Sz6k9oN8O0a+X66bpooExlRI72nnnqqpWO48MKP1IT/14K00nnmuaZ2Te+fw8pw7WhbXIXl+6ZVmHY2EUjAPeh3sQBuiLzGZlEukysueQwmE7omgfEOAoWgSwHiTmHou+whaWiIpB7x1QMyof2zPizuL/GH9HdaUtR6ZXkQyltscWFNSKsB+G446aSb65JAAkJnFQnE17PqikDs6613Y1BgNmXKl2sW3xdHTDsDRMQ6s89yIG40sJQmAgk45yzfXl3XjM5AGXE/uhYU0YlQ69QOJj0JEFCykrgnWhXc9ZAmSrE2ZPjIQJCaykJppu0KchoCwxqxBKLFKtLfadmvbXsBFtJmmwnmctt8r2bd3DyqIJIh5TuN1jnU991uu0trBPO9uO9jj/10w+MmzFl9MmXaefC8T+yH+268IZNA9ZBIQMIJq6DZ/T0RMelJoFfwIAumci/xjctYEkw+/PDDo5nZao5xv2MCIPC1ySZ6DCGBR2oE88mWBJHvIH1VCqNjbERuhx56UVhooe/W9v3TcOCB10dXUiMwvTW2E4sZrbFdghhNJoGMXiGRANc1EujGIzAekUmgS6Q4ACvimGOOif14kEBa/tacig+8ldGMgyAB7qoNN7ykdvGRwGM1S+STUdNvBb4rIcYqEEir58p573svDq94BRL4bdh995mjZvE4d0iTJSXTaDSLTMwkk0BGr1AkATHIeu7LiYxJRQK0TtomjbZe4HW0VX4Ps5EJ6cGW/mg4OGEmMF4kAn9rIsb1Uc/3Xtxno8DwaIKxHXC9bLDBpbWLr8nc4+G4425su1WuY5TNJTGgXERz0UWXhSWXNNz+D2Hnna8Ojz32eOF7aAHy75o18vea8PtVjSB+WBP8j8YK5nvv/VrcJyHZLFfbZ2vR4OEdb8gkUD0kEpCMggS6yVwbj5hUJEB7lBJq0pafitO4awQopbNKd5W5IiNIHjrTUMCXu4KGLhVWAZoaBOmifPX8+aqJZRLJeCoK/+ISABVcLfvHVVdLd11zzTXjWnzxxWN6a/o7LXGCXgk95u76619eu/izg+reY49tnwSAW4lriIuo6Mr52MeuCcsu+1BQmLbEEu8KW265Z9h22+lhk03eWftu08MrXzk9zD//kWGuud5T2+ac2rqo9rv5BUeF9dbbM2y99XYxa6ORRsa9lEkgo1dIJMAK9ey3YrFPJEwqEiDspY4WNXWZLyo3pY0S+tL1kIGlChopIA+l/gLIZS2/1SVtVZpqOR+fQLZ/aamWdhRqKNLfaRF6vfJVusnXWy+1gHgiHH309SPIqVUQ/M6NNgdpsIxjXWGFr4ZiBXHr62dh7bU/GA455MhIMKkFSRFeyySQ0SskEpDIQfkrP6MTHZOGBAgSwz3UCZQF9CCWwjauotGyYAYRE+D/X2edq8NQGueT4aijOieBBFXcXGJiIDKIVlnF3OM/1DT8/9SWlhP/qq2/19afauuPtfV0bT0b6vUemnfeq2pm+ddjXYbUXTncxdhDJoGMXiKRgPRm12eyXY9xTQLJV98KuBYUos2aNWuEgB7ESrMJyo30yhgECaiNeOMbPxa1bnGBI464NlbhdgttOxSWcZmttdbuYcUV9wvrrz89bLWVqU3vDAcccFQ4/PDjw5FHnhCmTz82bL319PCqVx1eE/ofqhHCA+E5y+G6MHPmfTF2Q+CLpYg9pCIeDy0S8L/xhkwC1UMiAcWork+rSRITBeOaBLhuUgXxaOAGEpzVK6gsoPu9uJA0sCN8R8MgSEBgde21rw1DraBn1wRzb0gAkDIB7Xt4qEYLaIsraDe96qqfDHoZJUvgppu+Mfxe1pN+TtxzBKesoEwCGb1CIgEdA1yfbq3i8YZxTQL80Pz5reTgcyvwXSONspDu9SrHDRRDaTXRyNdYzDxqlB3UqsXTClTarrmmjqJGR2qOd01LBNUOZE3J9OF+G61hnFjL2mvfEaSUuh1f/OIraufsG3N856EmdedEoYkEtNfOJJDRCyQS4NKkXPT6Wag6xh0JEPjcKh4e+fda8xLstM56OesJGsf12xVE+Msu0ApbDCBZHXLqNcWrl/ZIoGlot9xyy8W16KKLhqWXXnr477Skn/aqTYJztcYa5gfTvH9aOze9JwHQIlzbZKX4jYbUg8yq1VcXQ/hjJIHFF7883HHHN4f/79h0j5VhhRgSCTQrQqsqMglUD2US6LclXjWMOxKQw6so68ADD4wdPg2jMVSG1tko6Oqiarugr09ZcHe7CH4kNHPmzDiAhv+aWZlaT/ufgDTtvh740XUoJRysRCDp77Rs06tydvnQq69+c+3i/yqICxxyyMy+3fiIebS5wyylVVb5Su1Yno4ksMIKl9cIe4gEZETpPOraJZJHhoLPmQQyeoFEAu4rykWjZ3WiYtyRQBGtuoPEDqR6ag9dFuKdLsKfq8MxqDmQ/umhTkKO8Jct47P5s1vNPR5ETIDgecMbPl27+L+OLqGDD+4fCSSooXA+PGzl60UwrrSSzqNDIzDXXvvymhX1zRgv4EZjKRRdSiqQMwlk9AplEhiP91U3GNckwM+vV09ZqJQhKNttaiihb/Ffy1+n9dPwCahG/cfl+8v7b2ce8SBIwPdYddVbaxf/N7X1i5pVdXXsx9NvEHZiHgRhseZBYdjyy8sO+mdcm256RY2wHxpOqy2P1UwkMB41tkwC1UMiAZaq+2o8ph53g3FNAh4eLqB6LoYE6V7SMztxBSXBL/ddXxsVwuIQirta6Trq2LihmmXeyGxSbUsIW+YYKGBLf6dlm1ayoFoBi2iVVT4XhkZN/ioccMBgSACQoSwf1lGaUXDFFVeG1772G2GoZuDPYdttPxqOO+74KDDrlfDz3SruyySQ0QskEvDTfTUee1J1g3FNAq2AO8a8gFZcQUnoIwytIOS7c/XoDsrtRCNtRjj1UBxdWQ8KVFZeeeUw33zzxTX33HOHeeedd/jvtGwjIN4LuOFf//rbaxf/99EltN9+Vw5UoDofLCoBc8He8867NCy5pBnFCsZ+GRZffL84m6EReYq5ZBLI6BUSCcg2c1+N1vBwomFCkwBNXVaQh66RwOerJuC5eJLQN8RFCwn5wqMVd3ULwU7xAhaLdcIJJ8TjSn+nZZtm2U/tQJbUSit9IajolZa5776DJYEEWT8C6Ztuul1YZJF7/0sCd4Yddnh/TAlthEQCg7JeeolMAtVDIgGWqZoVluZkwoQmAa2OU3pmEvpcLdw5+gjx61syiwgVLpd+C/3RMIiYgDjKiiveWbv4f4ouob33/siYBcMEfw899Oiw0ELvqx3L52vrgBoRnt20oZ0UVw9rJoGMXiCRAEVIDMr9NZkwoUmAVq0hlAZstHtaPm1fb3/B2k7cO/3GIEhA9fQKK9wV+N9ZA3vtNXYkACeddFlYdNEza8fyrto6u3YO7mhaV8CFNl5JQB46EnDfZRKoBhIJuJ+kK/fK7TpeMGFJgAtlq622iu4gMQHpX61m6IwlBkECOpq+7nWzahf/L0GB1p57Xj6m1bdHH31ZePGLv/Vfd9DnwkUXfaVhzQckEuj3eeoHpCBqjMfizCRQDSQScD8hgWauyImICUsC4xWykPqt4RKgyy13TxgqzvpzzUL68JiSwDvf+eHwwhcigRDmmuuGMHPm/XWrqxNoasz28UgCzj13nIQBbUSMHqWwpGaIeQ1+yQYqkoCW6JMJmQQqBm0W+k0CXBLLLqs4S9fOv4Rp0y4b09zo/fb7cFhggSESWGCBmeGTn5yzdXQZNLXxSgKsMIkIYiGsHb9LmVUrkdfYLIWkYoUSFT73uc/FvleTCZUgARqRYEyvg7JYfrxBi4TZs2f39djFSZZZ5v4wVKH71/COd1w6ZiTge06b9uEw33wPRxJ4yUtGNo8rI5FAP/od9RuSFMRk6tU/ZIwtpCRr9cJFN5nQMxJIplU9NHvd8lAY01isvG30niKK25Q/X6CTQC3322m03/Lr5b8TGr3eKwyCBK677vqw9NIqdP8erYFdd71kzApkuH123vkjYd55vx3EBBZf/MPhi198rnlcPeh9xGwfjyTg2Aka1zijWpASzlKTVTiZ0BMS+OMf/xjNKKZVsYe8k+nE0jwJ5WKFLZ8o4c81IW0ukYBt+EmZaFI661XJyvMnALyPS8CwEfvSwdPn2Yfy7y233DIG4mi53AuKQAySVqjEHAc5wfbh+PkCFS95QKWR0tpSzxrv9z71A95T77h6ASTgXPWTBD72sY+HpZZ6sHbxn4lEsPPOF48JCbgG/OM77nhgeOUr96tZAx8IK654ePjKVx4sbzoHXKfxSgKOWVwAGWRUC9KSkQC5M5nQExLwQGrpjAQ22GCDWIBFEG+99dZh6tSpsfpWgU+RBLRH0IJB+uaGG24Y+/sgAfvZY489YldOfXcI9nKQcPPNNw877bRTuOSSS2KQ0KB2jdy8d7PNNosCLe1XERhS4XtFCo5Fp06+dymixx57bHjLW94Se9UjgI033jhMmzZteF/cDoSVIfHSS/WzsY00v35kG+k31G8SuOqqmeE1r1Gh+49IBDvtdFHP2lS3CpPeELXrh2CdYwqBwT++fzMkEmhUUVxliAP4ntqMJ+u12croDp5xSpuMMnKBwkfYc0G7B3kKnn766ajsIWgkoPnjZEJPSMBD7KYmsLVQ1tiNgEQCqlPLvn7CXhvo1ETMUPfjjjsuXhCvE8aEEi1x5513HuHSQQLaQPhcwl3BF0HvPSwKZORC7rvvvsP55n5nLSAUn/umN70pChEkYPs0uhAhsGAcM0uDUGZJ+MyUQcOyUWDWamfQdqDlcr3h6r3E5ZdfFV79aoHYoYZtO+xw4cBJwLVwXovf0+/6NJVfL0PgbrySAEVI36TddtstHHXUUQ0XpYjV2qxeImN0aAGj9fxFF10UFT3Zd6rUdbTVDoa8IAPUEVFK/T+3jegAhx9+eDzRhCZhfuKJJw6TQNkCACy8ySabDOeCc8W4GFLlVlhhhbgv+1DsRTNMrpsEgpqgtN9rr702CmgXMr0H8RDkRRLYbrvtopmXsk7WXnvtyPzeRyAlt4/aAjeBfRM0ul4KFLE8kvvB/t00/cjvNqO33yRwySUfCUsswQdv0PuzNYvrgoHe+FxpurrWE+IsAyuRcj24Hu6Z8ToG0D3ofmu23Kvuv9k5dtAVFIVyLWc0RtckQFits846UYATnDp2EsTNSIAQ8B7CjsbN1ULwe/CRAy3eg2LfHoiyQEwk4HVa4TbbbBMFss/xPvtnAnLrIBzbIRmpeEw//ljC3jEjAdpnMxJgPnINsTbsn7ZOqyi2Q+4VBkECF1xwWVh88e/WLv6/gs6d2257/kBJwDXwcNYjUemxhLw4UyOMdxJoBVxeXBP9Thee6MgkMDq6JgEwUIXwpi1rzUBwIgG+/WbTpLyHu4dpzL1C4/eAmxZmX9tuu21s8VC2BHbZZZf4cKT98tPz93v9bW97W4xJcDkdcMABkYi4qbgYdtxxxxg/ECtIriE9hGilKe7g+JMQRg6+G2Fvspd9WawK7pMyufUCyMWx9mPfCeecc0lYbLFHIgHIyNlmm/MH2jTLueXGqyfguBURUrPAOzLOJJDRCjIJjI6ekADQ7gheD3gSYLT8egSQQLh7n+2LQs/7aIJpf2WUYwxAiHtPWXjYNu3bT/EFBJX2Wz7G4t/l4/IZAk31Pr9XQAKIs58kcNZZF4ZXvvKxSAAu/9ZbnztQEgABd9lXrr/zbTm3yHn2KC4Qrr6JTgKUISQwHgviqoRMAqOjZySQ0RsYp9hvEjjjjPPDK17x/UgA1lZbnRsef3ywJMDC4q4zdEeWkKXHUytWEBKQa9+s0+h4B2sHCYzHNNgqIZPA6MgkUDFwf/XL1ZRw+ukfCi9/+Q+GSeBtbxssCYircOGJ53C9SReW0ttqFe1kIoF6wfOM1sG9iATqeRQyhpBJoGIYBAm85z3nhJe+9DlLYMstzwuPPTY4ElBQmAr9QMxGA69y7KcRFAtOdBJAdLfffvuEdnkNAnoCySDspwt3vCOTQMUghzxlJzVC8qF3uk444Zyw6KJIQEzgP2GLLc4Njz76ePlj+gYEIB6Q2oSwCtop1UcCtGTZXRMVvmMmgdbgNqJP/OpX4niej6EF6omQQLOGhJMdmQQqBr5yJNBIc1FNK/vqsMMOi7MSFLhYhxxySFzp9/LP4u9rrrlBWGihd4QXvvCAGhnsG1ZbbfNw/fU3DGzIjtoP7g4QyFed3U7TLjn0E50EfEckMJGtnV5BpvYZZ4SadRvCG98YwrHHSjzQC4gl8ECNBK4LzzzT++r+iYJMAhUDEpCpU48EuFEEUqUPynBqZi00QzkjikauJ5Iq1VmzZg3XTPQDXD6Efuqdg9RUxrYzz0AdyUQngfQdMwm0BhMh99jDPIohF6e14IIhLL74b8Lb3/6j2j32ryDprEnm8aRFJoGKAQkosCuTAM1ZmTsroV/aOpeMvjb1irh6BcJfU78U8JQSqj1Is+KwMghIWnI/j3OsodbFd5zIRNdLeCS++MUQ1ljjORIor4UWCuHAA7WMLr97ciOTQMWg4V09SyD1NOkXAUAS0P0UrrR+aXspCHzFFVdEoV7+vs2QBGQ/j3OsoX/WRP+OvQYD9sorQ1hkkZEE8OpXD7mMfv/78rsyMglUDBpd1bMEUnfRfsKwln5bAjq/smqQGXeWoHCKD7SKySAg03c0hzijdTCcjj8+hHnmeY4AkMIpp2RXUCNkEqgYBE3rTVlLcwb6CY3bzFHolwtCbygdY30OqAuYOXNmJL12QEBq4zGRBaSsFt9R76uM9vCNb4QwdeoQAcw11z/D0kv/JeywwzO1ZyiE3JR1JDIJVAw0ZSRQTmlLE8f6CT3XpW/2iwTEHG655ZbhYKccbvn+7QrzJCDbfd94gnOTSaAzyJeQHbT88iyCJ8Jee325ZuX+MbzvfSHsuacq4qFtMoaQSaBiaEQChuD0mwRSEVe/SEC+tgrOlH3kb8KuPDRoNCQBOZFJwHnyHfsxs2IyQJf6884L4VWv+lY44ogbYxNIt9kdd2gSyb06lFqakUmgcuAjp5GPBQkISBuY04+0RDEA8Y6i/z/FB9rFZNCSBc99x1ZbaWSMhMflzDO/Hc444xNxiliCwrIZM4ZSSmu30qS3CjIJVAwTlQQUookH+G7AGrj88stjzUO7oCVLLZ3IJKCNRiaB7qE/lXu6fB5ZBbVbKEybZoaHOelz/HtSIZNAxWAGcpq7W8QgSEDPIn18+tGqQDDXDImU0cP1JAjdSb98WvJEJwFtNZBAHi/ZHSgZXJyN3GqsgtNPD2GvvcSaJqdVkEmgYkACUjXHggS0sJbH3w8S0CZaQFelM5gnoDo5jRhtB4kEGj3YEwGJBIpujIz2ofaFstFMYRCiuv32IatAHKFmtEakNObi6medToIamkHe25kEKgYtFcaSBLSP6AcJiAcU+wMhO9lCnTxUXCWmvg3yQRk07rnnnkh0/RhhOpnQTu3LUAxhyD308MPfDvvvv38cg7vGGmuE1VdfPay77rqxtUq/Zzzcdddd4aCDDiq/3DdkEqgY+MnduOUJaYMgAf17kECve9ib5qYymAsICH5B4XaaxhVBS57oJPCVr3wlkkA77TQyRoJrFQm0GueikxT1EpaYWRfvk18ahqYLeg7FtpIVm6YasjZU9XPhiUH4zDQq1X4819qn1+v5ZRvKl/1Kmz5Qf4swNN2QIuC9yKfee7tFJoGKQfCUCTsWJKAYTdpmr0mA5u7GTia5FNRrrrkmxiA6QSKBcrBvIoGrLJNA96B4FHtVtYsiCbAmTP4zZ3zfffeNM8yRDMI229ykPPNA9P9addVVwz777BMTPYxCNTNdF9/99tsvKkDlBo6I6q1vfWs48sgjw1ve8pa4LzLA/PPtt98+dgyu995eIJNAxTCWJGD/SKBX5q6blZZkRoJ4QHJxubEJuE6FOFfJRCeBdI5YURmdQzW60aWdzmoukoBGh0cddVR8TrzOun3ve98bSeDQQw8dTncW73rHO94RM+JY1+5/wWnPg8y2E044YQ6XK+3f/u+8884YM5OcseOOO8b3mjmOxFgAkiuOPvrontfHZBKoGJCAjIaxIAGZOkbxdUMCbnTH7mY/9dRTowbDxVUsQPMdWQYekk7goZvoJMAvnEmge0h7RgKdZKFBkQRkt5njQVBbAs7HHHNMtNoI9hR3ENBHCuBZ3nvvvcOb3/zmsPPOO0eL4MQTT5zjeAwQ8lpyl375y1+O8QjKIItg0003HX7v8ccf37FV0wiZBCoG2sVYkQBtqRsSkNWgLQSTlhnsRi/3QAIuDsRwyimnRO2pHAQfDUjgi1/84oQmAYIACXRKlBlD4JN3T3bad6tsCdDEPYf8/ul19yMSSBp6kQSSNs/CpiCljKMiCH/7cU+znIuWgMaR/k7v7bUrCDIJVAxuLAUuY0EChD9ffbums5ta2iYtRYppq2mNbvLTTz893uStvgcSCUzkHHoCh7XTSQptxnMQd0ICMt86gfvyqquuitP8CHk+/6lTp0b/vJgAVw73JE2+SAIsBqDgsOp22GGHSAxenzFjxhyDmyhPXD5bbrllzD4SE9hjjz3ie7kFt9tuu/g+yhX3U6uzuFtFJoGKwQ2HBFI+fcIgSICfUj5/OyTghpT+ye9J829XU/E9dRLVPbVVk535zX86GUjg6aefLv8row08+eST0UfPIugEFByB23QdaOruU9p7es09zGJLVq9tim48z4S/ZfiIUaTZ2kUQ+Fym9stSTu/3Xvtu9t5ukUmgYrj66qtj6uR4IAGpa7Qa2Q/dCiuuD1kVrWQM0Y4mOgn4fkhA++2MzsHaRALttiufTMgkUDGMJQnQRGjlrWjktBMmMoFc7AKafJ6dLIJPLIHpXv5fcfGXp5hA+X/trHatlkHC98sk0D3EAgR0U9A1YyQyCVQMY0kCshtaIQFmr3xpLovknyRUubH4Lt/0pjeFN77xjW2vtddeOyy22GLhda97Xfy9/P+0VlhhhbiNSs7y/9pZMi50JK0iEEAmge7hmWGppkFGGSORSaBi+OhHPxozZsaKBHz+aCRw6623xkBWys4RPDvttNOiAJ9rrrncVONirbjiitENVUUkEuiHD3gywb2MBKRbZtTHFA9DRnVAE9dTpzxoZRAkILsBCTT7HH54KW+pJbSfb3/728P8888/h4BFBlVc44UEHFcmge4h401NCis1oz4yCVQMY0kC2jpwRzX7HP/XtoEbyHZK3eebb745hOviiy8edt9993DssceG4447LqaOyqOWRnfSSSfF+oD3vOc9sZhMiqi0NwFmMYYPfOAD8btKp7OPk08+ObqepObJQLrwwguHU+0+9KEPxYZ7ag4UoKmxkGLrGJGZdFd1D3K0r7vuuvCud70rLL300sPHudJKK0VBW0VkEugNFFbddtttHQ0vmizIJFAxyM4pk4AA5iBmDI9GAgQ/QZysAML8ZS972RwE8PznPz8K427z231/qacPPfRQ+V8xgCw43G5fHYJ1rbXWGj7WlVdeufIk0Ouc8MkGGW9IQFXuWKDKyQcJmQQqBtqrG7ZIAoKugyABXTnVKTT6HK0gxAOQhbxmgdXnPe95c5DAtttuO0wS3UJTLcK+TCidkoCMGwHhIgl4rYpQcJRJoHvo5Hn77beHBx98sPyvvoIFR4HxvJSfJ9aJpopVQSaBiqERCSgfHy1g2y0EepFAoxJ7LhdWCgKg4ahgfMlLXjIHCbz2ta+NaZ4qiC3VvakFglQ9AWUVwlw0yV2jylgut8pLxT0eIPv3ANumnONNcHdCAt6jP3w61te//vWVJ4FiZWlG+5Ds4FxqvjYouHfdV7vsskskoHIba/EJz9Ig4Zly/6vFKWPMScAJo2GeccYZ0T+c+mdMVhCKNIjiOZCSOQgSSP1QGpEAV1Ax1Y6fdf311w9zzz33HETQzRK81WzLQ+t78/mXTXnCUSl+u83V1DSst956w59VZRIgPBxbJoHuINmBAtJJKjDhLf5FeJpTTIOXZUTJocjYN/kl+MyNK2HCvanORSxLGwh/q1Fwv1rex1JO9zcrQfzKs0VhomApvLSNv7lWtb3g1pLlVFTSZBCqJNZe2hwQlrzX/H/WrFlRubJv77XE4Vjq9udzKVGC5lM8DGOJs88+O2aXMP2dsMMPPzxqhKmpWKOmScXXW9mm2evlv4uv1dtutNeK/2sXNGSma/Hhdy6cp7EkAcegtUO56Ia2ry5g3nnnHSHQu1l6sasedhM/8MADczSi65QEPFRIK33GKqusEl1LVUQmgd6A6xIJuE/bhfOvj4+kBjJJcoGOoH5yz+ogShEi/AlY9yXC0LlUcoOeP1qoE7qeEdtQeFnDZgtw9bGsCWskI4mC5Tu7JqAlU+g3ROgfcsghUXgjCp+rwygXqc9ibSAWyRO2U+3vOd1www3jeynXtkdg3qvFNYLQpFLMzfeZ4mEYK2BQflmVqkWB6YFPgg9B+KIY2OvIgnaorarhDhj13e9+d9h8882jAHNiCQ+ZIwcffHBkY6aXohtsSKOWWWKfPtcJc4Ltz740bsP+u+22WxwU4QaQB0+ApNewPIFpuVhe0zKZkOa6cVM4wW4CQal2/LpusLvvfrAm4P5e29fQa47J9+k3CaQe6Urty3D+nPd6PVhoTDKBXv7yl49IyWy0ykK/vBZddNHhegQPYLFoykPdCQnww26wwQbDn2HwR9VJYDJbxb0A7Zhw7sQH7/zrGkqAuse5UmSY2ZfnVLZbErSy3jwbZJTlufdecI8ZF5maJPobCQAZYltCXNZbmldA4CMHmj1XqWZ1ZCTScAxITcYc2ed32/o81gJvgow7YEX7LLLDfiRzAHlKZlHqxpQEHJR+2fWqImmATpz+NITAZpttFk+ilqvYzMXVz5tJT3Pmz8a2vixhrqrUCWDyENJOFNNJbjgmJJiRA4HuvfzOhLYLjlxU7SIin+OibrXVVvHEpdf81PHPrFyf4QZxI9A8BEztNwVQ27EImHVnn/1A7Xv9vXYcxk1qh/vPmmZxTt9JwLluRALaRDhfzXr7OIe0EsSKCJE40vXT35a/3aC0KOfJ9ZBRVI8YkDUzu9wxlI+Xa6fdNsu0MBrSeCABgiGTQPfwbDuPZEi78D5KIGWDYHbf6u7pWbc8q54V2rfUZcokYc2SLpKAynoejnQtEwmQNYQ/BYpSY5+IwGd5hshHCiASE38Dcskx2SfLYq+99ho+Hl4E/0cInjVgqXiOUg+lRAJed6wU4zElAZqeXPB6JKBVq4vgJBCiBDxfm3xyX5aZTCARJIlht9lmmyiImGDGvyXBgTFpsXztSCeNOaTZ+3wXy4VAHIgCw7ugBJbPIMideCRBoAleem3jjTeOTOr4WDWsCTeAY+LCSC6tduDG+vrXH6hdoL+HhRYStAnhec8LYcklf1E7hmdq+xXk4Woqv7N7IDOCvh4JMD9HI4FOgGA9AGuuueYIEthoo43izU3op2sGnZIA5cA+0/5XW221+DBVEYkEypXjGe2BDHAeKX7twvvIAiTg/lfDw/IXZHXf+ul1PnweAPEybiB+9lZIgN+fFeH+Z2mok/F6KyRAwSUHfYb9kjXkqEA4EkAukEiAAum4bE9ekaW+G0t7TEnAgXgQadZlbZkrx4n0EDjBAnoELBLwJZGA9xPkRRIglJEA4Z5IgDDnKnLikEMaUI7Vaa4EmxPvRKXPs29Cjw/Z7y66nwqTEJL3CGAiDdsjhl133TXuBwm4WPUGqoyGG264MZLArbf+PSy99BAJFNfcc4ew7LKhZiWF2kWloZf30DmakQDLSUCMv7MTFGMnxeXGJeiXWmqpESQgk0fxWNkS4CrphARYjJtsssnw/t/whjdkEmgA14ZwI1QoOO4JP0crXitf37EG65bQJWjbBe8Bt0zqkEs+8ESIE/AMsPxZlywEbmfyh3wij1ge5A4ISruP04wQf9vOfskfcoRyyj1jO9o5ZZDPn3B3HMgFKLmOifXhekim4QrnvRBTcJ0oSSxoIA8RjefHe8XaKNjOh2On7I4pCQANnMB2QASq4AWfm5FwAiNeU8Dkd4zsIrRCAsstt1zchwAIjR0jYuoiCfi/k09rRzCEiwvD50yoO2ncUASf/3kNe3uN/0/FK5PMMfoeLpSTLd5QJAHPgkUR8NHmW0h4qV3j2jEoEAs1czLUvpvv8ESYOvVXYYstnh22BOqt+ee3rYsshXT4dHYF5xfJ+Z5leKAJ63o1AP7nnLsuSMR2HgCajQfktNNOi2Yo/yWNRjDKQyMeJMV0nnnmGUEAlvPoBhaPKbaqJiA7IQFKgAeuSAIetCqC1jaWJEDYu2aqwV0f7jr3vXhZI7hOBx54YHS/Up4InE6ycnoJig2i7xXZu9dTzDKRnJ/+7sTyT/vrRGGE4vF0Au8fcxJwEKLnIttuIAyW8sS5i1gEbsYUPE6RbV+awBVVT4FX5hG3AbPfvrCkuAJNgMlE+DN/iu4nNwfffvps5p3ACrPMMWFM7/U/f3vdMSAhr/Oh+wyCL5ERdk/HS/DXDI6w+uohvPGNofYghbD99qH2gIRw1FGhRiQhsNyuuiqEm24KNVPv7hrpPVITdM/UiGxOwV97DsPLXx6CoUX6YZWGj3UNQpXbrB4JAL8nwitreLYvBlx7sRZccMEYF2J9lLODEgmUi8hGA2I2rzV9xuq1i1JVEhDgS+7QsYD7W1yreE1onM0CrIKkkgPS9izmXgnfTkGxcQzOZUZ9THGxJhoIDaYVU3C84ZOf/GTUnm677W9hmWWS8P9PWGKJP9aspGeDupNeaf5lEKrNSED6GoItpy0S1svUDrYsyDtdNE+mLXO3Xp0ALRkRt0sClAeCLH1OJoHGoOBQvorXhRukWaoll2uxjUgVSIBik4oVM+pjios10cCnxn3TTmpmVZBI4LDD/ha1/re+lYXz1zBjxgUdD4BvFVwusp0azWOlScvIKldASmsrVw6/6EUvCi996UvbXq961auim801TIPvy3GITkmAO5AgS8doHkEnvuJBQHV1MTGibH31G9xQrkOZBLht68HxsYqrRgIpn548yKiPCUkC4xlI4K677gvnn6+QxMM4JJy5m/pNAtxkzUiAYJBpVYwLePh33HHHOYrFdOcUGLN9uysJPRBj4PYpZ4/RkstxglYgxqPraTpOGUlVJQHxKm5KcRQaOYEsviImJngo5iINMHVWVTXKaiKIxdBksiBQAUYuU+RtnzJOkCihKOskBU2dT64eQp61J8bDzVlM3SXU7UfwUZA05c+rnOVqdSzqO9L2XISILE1xG4vlHvH9fOeM+sgkUDGIJ3gAi1YMbWYQJCAWk8Y7NgK/L0slpbvx1U+dOnWO1hHS4VqdU9wIvjPBpjimjE5JQDBfQHo8kICYl+/HpSnXnaAVZ0oWkkQG14mVJBlCrEZPGudLKjRBTqAL5LKafE8Cn1tETIWlkYrxKB7uOwVQXH4IhGtH5kjxukqhRkzSpCVBpMA/ghI/EBBW85G2Z9W5N8TR6i0xtrQavd7tkgsvGUHGTEZ9ZBKoGGhuYhpFvzuBSNujefUTrZAAIWSbYr2AbJ/iwy8Nkx+/rJW1swT5Cax6GUAEWCck4HsRVOk4tZVmaWSMBBJidRQtPFZUs0ZsMsOKlkAV3EEZoyOTQMVQr3cQQTgIEmB90L5HKwiTRkq7TNaK97zmNa8ZfvgtfXlUdtPEZF7J8qKZpYEwNEqxhFSoJxDM9aEQRlm8AK73Si9NbpA0dEaVJI1R+mgaOMNS0qrDsXCH0IrLAWxuDPnd6RjNMc4kUB8sPOe3ODCIFUVBaQQksMgii2QSGGfIJFAxMMfLXUSluRFw/SYBQrMVEnA8BDLXA3+vtFzFKuUJY2O5zDlYd911o9875VDzYzvOtA0SQGYZI4EEEG5xXgQrqllffspBJoHxhykuVkZ1UG+egIIXZeT9JgGfiQQED/mQU8BQWqA4BXJSdKeHkkZ++v94jcDwOjdQr7uJdrOkmvo+yWJx/hQUpv8bMJNJoD5cU4WbCyywwPD50syx3qS3BCSw8MILD2+fSWB8YIqLlVEdCMrRsIuVooKDgyIB7hWVuoSnTBAZOrJMUrDQgy4mwD3FDYMwUpGcgCV3jxYQNEKLUJA++uIXvzgstNBCMXXUeuELXxhe8IIXxKIw8QRWBALxM/1OiFuCk+UupM1WIxIQz/hvmXwmgVHAwhMALsZ6uNKakYDspEwC4w+ZBCoGhVe06jIJEGaEWD/hM7mdFNqVp3m1CkFdaZ4IhXuJALYEnaV6CuYKdItzWFxLrA1xAWmLXEsqwWXESDu0vJayY6QkIiNZLY5RloziNi4s2T+Of/nll69LAvrgbL/99sNCSm8in50xEkhA+3Iknc4XV1q5cK8IJFCsF8kkMD6QSaBiENRUlFUkAZr2IEiA8CZEBV07JYF2kDqTii9IdUQgrUC+u9THes3MUnvxeiSATPSgSkJKzCCTQH0gAVYhiy2dL+me9VJ2E9SYsPgyCYwvZBKoGOThy2wpkgBt2APWbxIQQE0kkFpk93qp+7rhhn+HM8/8VMwOSk372gErAAnUqwiX765YrR4JsDC0+84kMDpcK8VfXHjpfImnsFLrwfbchJkExh8yCVQMKj71uCn2jKHBMrXL7Rp6DSTA1y99Uxon/34vFvfS9OmHhq22Ojsss8wPw+te94ca2T3W9qD4BCSgurUeCaizMKimHgn4PG2+k5DSnryTYSOTAYS6tNuiUEcCrNR6sL1zXSSNTALjA5kEKgaB1zIJ8GV7vd8kICMECZR79XQLA9FqvBJe9rKhhng1XoivdQqZSY1IQBD7da97XV0SEH8Q9C6TQNlamWyrHrzuXij6+AXVWan1YPtMAuMTmQQqBsJeC4AiCQiIshD87Cf4gWl/vSIBrh/jMWsyOQ7DcauZknbddUOzFToFvz8SKBeDgZbfjQLD3E4K2JKQ0vZYxouitPJKBW71lqI3LjMWTr2ViuHqLS0MFMjVW1JuU+FcvWWqlYK6ekuRnSEn2jfUW+ZeaO9QbynI03a9vKSEFrODmgWGkYAMNplfmQTGFzIJVAx8/7pdFodESA2VEdNvEvAg94IEtP7XoXnTTUNYYIEh4Z/WmmuGcP/95Xe0BySgdqEeCciuMlCoHgn4aQhRElJ5tbdGcwchgWIgOZPA+MAUFyujOhBc06WzSAICwoJ0/a4TYAnI/e8mM4ibp6YMh0UXnVP4p2VUard98DQ8a0QCyHLZZZeNQqhMAoLtWk4Um6Ll1dpSuyGQ3yiOk0lg/GKKi5VRHRBaMnOKJOABk0pJA270EPYCqZNkGr/ZCZ56StVzCNOmDU1BMw3NLWaxCmofEQqJTx0hkUCxqjrBeXrta18bhVCZBICrTf67OatcQxbrIK/GC3HKGtN2oxHco7ZRAJhJYHwhk0DFQJtKJFAM2qUKzpRSWQ7ujRboGw06dspA6pW14TCQgXhAIoJ11jH1rbxl+9AfvxEJ+A5LL710QxLI6A8yCYxfZBKoGDxIAosCjAKQM2bMiNlBgBj8LYAoEFgMBgr8WSnIlzpvWrpBagamB7xhJDTh1H1TBoj/e4/q217BhMqash2uvjqErbYaCggfdxzXVnnL9sFiaUQChL62FZkEBgsk4F4qVhhnEhgfyCRQMfBbE1ppsDrhXTTDva7SlltIOwnVxKnNQmqvgDTSABKavWE0+vrYD0FfbLPA/8/ySNZFL/CnP4UwffpQFpAJkMa7sgJuvllVcnnr9tGMBJBoams93kigbNGNp5UyyzIJjD9kEqg4yiRQdRDyNeOkphWGGiENvUZWSxX93vfm3LZTaGpnalaxqjpBAP3Vr351FEICwCwl7Y/lt6t2leKoJ77hKCakSTVVfaxyWNdU82iNROQeM43KWMI0hUu7CjUKaRKXwjQxFLUJUlNlJqn4ls4r1VemF/ceYiIgWV5GQqbJXCwwlhqrjQXHkmPVnXjiiTEdVFqo1FFppaa1sRClpkpTNfpx//33D/vuu28c6rPnnnuG3XffPfrwd91111gUZ+ynXkny+6V3SvnUDnqLLbaI8xo23XTT2Pl1o402igJ7/fXXj1XUWmybumYG82qrrRZnQ2jFoQhPDYbsq2WWWSa63RCu87344ovHwrLyOMpMAtVHJoGKAwnMnj27/HJlQdjXZFkYZSRBVyB8G5EAN9cSSywxLIjyGruVSWB8YIqLlVFdKASiRdI0aZw0z/KiGdNMy4vGKqOovLRdoNUW1y233BLbQtN6y4s2bC5tcQlQ05RpzGldfPETNS3ziZo2/j81bfrOONM2LcIgzSgoLq2cVe2WFw2dy6e8aO80Z+8tFtQl0LyTOyivsV1vectb4hyKjGpjiouVUV2Yi5tcFxZByH1RXgQngVpeycVRXgQzt0d5EewEfHkhAgPeiwtBIA6ukg984DO1h/6n4eyzv1kjlc9GoikvBISYZPcUFxKj3ZeXUZuIr7wQopgGP3QZRkhut912Ma+96JrIa7Br/vnnj64s8auMamOKC5aR0Q1++9sQDjhAJe9Qq4ixhsA4cpFJdcopp8TFz54yqvjbzTHmc5dpZSmE4ntP/vfU/I4PXpaWxQ+vnYS2EuoMrH322Sfm0Vt77LFH9MunNW3atOijV4uQ/PRFX72FsFTiWvz22lgk372Zvoa706it5Md/85vfPOzLT/78DTbYIPr09UPi1zcrgW9/rbXWGvbvr7766tHHv+qqq8bFz6/j6gorrBBX8vdbCu7UW1h8/zKuWFhLLrlkjAFwuYkDLLbYYuFVr3pVeMUrXhGXVhy21/6il9lmGf1DJoGMrsAtX5Oh4cMfHiKDjPGNctZPMfun3pKtVm95T8b4QCaBjI7BG3PeeSG8730hjKPYdUZGRgGZBDI6xq23hnDUUSF897vl/0ws6OVkopZW1N1APEeqalHD7gRqOgRc2+3xJD3WrOjvTvQLltEWMglkdAzZfz/60VDX0ImGooBGAILvCvMaoRWBLoOK8OYrl8V09913lzdpCWIeUmFldbUKhYUC87K0ysda/ns0tLt9RrWRSSAjowBVyIS1oi0FXaqpadxaKP/5z3+OWVjSaRWlEaizZ8+O2rVgs4wmldrSW1kPoDobiajqlt1FC5dVJSgssCy7SqU3Ld3nWayFcuaTdFikob0HAhHsRgIEsiFEWoGY1awQLlWbJxhGJNNKMFwBmwwqYFHI+jJTQKEbolNZrqhOgZ1jQHyOzXvsR0qytGU9mnLgd2Igk0BGxn9BoKrJkC0khZbQJeRp0CqA/S7rRXaPymHEIKtIFpI0XgJYiw51DNJeQXqt1hVmNCj8k95qW5/hdcIV6fj76quvjl1Q/Y5IipCGS4hLtWUFyCpCAgS3jKdrrrkmHifykgJcBGGNgAhzVcqIBln5PGmcUoN9B9lM0op9VySnV5XjRjqO0ffn0kqEpdq5m46zGdVAJoEKolufcRm93FerGIvP7BZcJjR6AreIIgnQggly2jbBSAOniSfQ2EcjAbUf3kf4AuIhaPWDMiNBCwlzERJo5Br/0b4JZsRBmCMBhKCNhM+TFiuNFZEUIVffZ7EiCHqpr4hCG4v0OQhMO4tmJGA/yNF+pL5qctho0ljG+EEmgYpBERRBo7/LDjvsEM3vbgOS3Bce9tSNdBAg+Aipfs4/6DU039NrSEV0EUUS4IZRjQ3cOgQpl1FCmQTsixBtRgIEuWFC3DPIBQn4vASv0bwJd4TA2iCwnd8PfvCDsW7BMTlO19o9VIReRshNPIIl4TgIdcfODQSEueNAAj4nkYDvpjuoIkJuL1ZK2g8iQh4Z4xuZBCoE/mMFQkx7PuQ0VjIJb8KAz7ro80352l4vzyAgkCwCglBO4ynb2Y+fXrOSn9pr+vZYZd+113wmIedzadfgtfI+Up55vf2MBRwDIU8A6spK86WZNyIBXVi5aLiGfAdCXMdSJEBr990JbwK4SAL87vz3BKlz7f20a7EDwlhhm4rsIghr72cFIBbxBALfe/n0vc++3Ddl4iXsXQ/fx/dgOXAPiQ9oWoeUvK7wDQmIbRDwvi+riMbvMxGVY7AfxKJwLpPA+EcmgQqB8NBlsp6f1cPJMlA1yh8seEiAenBVp06dOjVsvPHG0d/sdcJBFarqU1WohA4SoMXZHtl4D2FAcKmM5SrwHhWpfNJ//etfo2acKll1w6Qt0xh32mmnWL2qwhZ5EaCEhH3aXkUrn7PAImtGIFR1q8+hXXoPrdL2Kmofeuih8lceE2i/zT/uvPmOzrtgMCHou9OGvZbgPHHBsNwQhCCywCrBaR/Oj+9Pe2cd0P4JawFh145w9h77TR0/befcF+E8IifnljuHPz6N2NSKY5dddonVxWIU5XMpduE4VCHrREqA+0z3GeHvfnBdEJHvIwCMvHwn38N1Fyj2vY444oi4H6/bT7fzqDPGHpkEKgQtgQnvsgCgZSIAgUoaNa2eG4BQRwoECi2bxqeVMXcAny2BjxBookhAgFDLYUKMIOLO4FawPeHjswkVPmr7EXQUCCVEkubuZ7IwaL6EwR133BG1WIKGAHK8WhzTNP1N8yRIfWbyqdMgHSPhWs5myRgMEAtrE7khcMTCSsmYXMgkUCHQKJni5aZb3EG0tZR2SHunRdOmZarQ0MB7PcyCd7I+kpZGE+WXpjnqQUPDoznSKglo+0VArAigiaYUQFoxC4P7AamwGmikeuCwHPSi0dSNi4SFkNIPBTLth8uDcEnHbluapfRKmSw0zIyxATeQ6+Q6ikPkIrLJiUwCFQLtm/AuamM0cz5ewj5p5PzFXA+GzXBZlEmAli1YmB5qQpeAlsWiyVnKAU8ZPDR3rokyCXALpGPgF6f1E+r84OlYNFuTlUKj585Kwl7aIhcHQqL9sxQAgXBBsAx8h7LrIiMjY7DIJFAh0LIF27hsaO5cPjRw2rWAHCHMxcKfL2D3f//3f3OQAOGNBLiJdMjkBvI33z2t2+tcRiwO/lz7Ity9Xo8ETNsisBUapU6ctnF83EuCh7pUCmQreOJX9jn83LpZ+g5cDfzUjsdn83sjBnEBQclMAhkZY4tMAhUDvzlBS4uWAsgVlLJouHO4U2j0ab4uAlDJCoQ568D/aO989fZh+/S6fXmP/dDqBSz5922TskpYAKwRqalcT3z44g4CibR/+0Iecs1lpRD0jk82jApUufGEu+Oxb2RlW5aKjBqviXuIRXSb/pqRkdEdMglkZGRkTGJkEsjIyMiYxMgkkJGRkTGJkUkgIyMjYxIjk0BGRkbGJEYmgYyMjIxJjEwCGRkZGZMYmQQmIdQQKADTFmK89fzPyMjoLTIJTEKo5NWGOBdqZWRkZBKYIKDR6wip06hq3XInUlAtrAWFZm/6B2lTkaBKWD8flcL6yKvyVQGsP70K37R/+/U7K+Kuu+6Klca2zcjIGJ/IJDBBoKVDmh+71157xUEjeuMXoWukfkS20UVUUzktHxCCts6avukqus4668SOoVxGpkxp/6DlhL5GX/va12J3Uv2B0n40hbOfjIyM8YdMAhMI3DusAB09DZ7R6bMMmr0uozp/IguavC6f+ghpYc0SMOSlGQkU96MfEOJIXUIzMjLGFzIJTBA88sgjceaATp9mwpoBUB4CrgEdwa8jqGEypogR3occckjs7KmlNBeRjqLNSIDbSHdTHUOTNZDHDGZkjE9kEpggMMpR+2ctnbl9tJsuD2wh+LWJ5usn5LmAkIA21WYZm6vLkjBlTPdQHUi5jHQNFQ/Qttq0MS4lcQVdRxGLKWKZBDIyxicyCUwQsASMoDQ0xtLPP80ZSKDF24bFYCYAouAyoumbMWDSmGE0aVaxNtb2ZaCNyWMbbrhhJAdEsOuuu0YSsS8WRZ4LkJExPpFJYALBzF/zAWTwyNipN7tX3IBW7/9cP7ZJy9+EuSEwaSqZ1wSY7bu4T1aA14v7ycjIGH/IJJARScHUMrOHN9lkkzi1rF6KaUZGxsRDJoGMjIyMSYxMAhkZGRmTGJkEMjIyMiYxMglkZGRkTGJkEsjIyMiYxMgkkJGRkTGJkUkgIyMjYxIjk0BGRkbGJEYmgYyMjIxJjEwCGRkZGZMYmQQyMjIyJjEyCWRkZGRMYmQSyMjIyJjEyCSQkZGRMYmRSSAjIyNjEmPK3HPP/QdEkFdeef3/jeJRPPIwAIn61sd54LZbAAAAAElFTkSuQmCC)"
      ],
      "metadata": {
        "id": "6dWNw0UuyGHw"
      }
    },
    {
      "cell_type": "markdown",
      "source": [
        "### Dados fornecidos:\n",
        "\n",
        "$\\eta_{iso} = 0,85 $\n",
        "\n",
        "$\\dot{Q}_{ref} = 100\\, kW $\n",
        "\n",
        "$ P_2 = 1400\\, kPa $\n",
        "\n",
        "$T_{evp} = -0 ^\\circ C $\n"
      ],
      "metadata": {
        "id": "Yq75NyqTCvuM"
      }
    },
    {
      "cell_type": "code",
      "source": [
        "eta_2 = 0.85\n",
        "\n",
        "Q_2_ref = 100000 #Watt\n",
        "\n",
        "P_2_2 = 1400000 #Pa\n",
        "\n",
        "T_2_1 = 273.15 #K\n",
        "x_2_1 = 1\n",
        "\n",
        "x_2_3 = 0\n",
        "P_2_3 = P_2_2\n",
        "\n",
        "\n",
        "fluido = 'R134a'"
      ],
      "metadata": {
        "id": "RGbU6AoGyFt4"
      },
      "execution_count": null,
      "outputs": []
    },
    {
      "cell_type": "markdown",
      "source": [
        "### Calculo do estado termodinâmico\n",
        "\n",
        "Lembrando que devemos encontrar a entalpia $h_{2s}$ considerando um processo isoentrópica na compressão $s_1 = s_2$.\n",
        "\n",
        "Em seguida devemos utilizar a eficiência isoentrópica para deterrminar a entalpia 2 real, conforme:\n",
        "\n",
        "$$ h_2  = \\frac{(h_{2s} - h_1)}{\\eta_{iso}} + h_1 $$\n",
        "\n"
      ],
      "metadata": {
        "id": "SRe94E07DrY9"
      }
    },
    {
      "cell_type": "code",
      "source": [
        "h_2_1 = PropsSI('H', 'T', T_2_1, 'Q', x_2_1, fluido)\n",
        "print(\"h_2_1 = \", h_2_1/1000, \"kJ/kg\")\n",
        "\n",
        "s_2_1 = PropsSI('S', 'T', T_2_1, 'Q', x_2_1, fluido)\n",
        "print(\"s_2_1 = \", s_2_1/1000, \"kJ/kg.K\")\n",
        "\n",
        "s_2_2s = s_2_1\n",
        "h_2_2s = PropsSI('H', 'P', P_2_2, 'S', s_2_2s, fluido)\n",
        "print(\"h_2_2s = \", h_2_2s/1000, \"kJ/kg\")\n",
        "\n",
        "h_2_2 = (h_2_2s - h_2_1)/eta_2 + h_2_1\n",
        "print(\"h_2_2 = \", h_2_2/1000, \"kJ/kg\")\n",
        "\n",
        "\n",
        "h_2_3 = PropsSI('H', 'P',P_2_3, 'Q', x_2_3, fluido )\n",
        "print(\"h_2_3 = \", h_2_3/1000, \"kJ/kg\")\n",
        "\n",
        "h_2_4 = h_2_3"
      ],
      "metadata": {
        "colab": {
          "base_uri": "https://localhost:8080/"
        },
        "id": "y61fIE5iEMwU",
        "outputId": "629e1d24-4267-427b-ccff-86c867b95a24"
      },
      "execution_count": null,
      "outputs": [
        {
          "output_type": "stream",
          "name": "stdout",
          "text": [
            "h_2_1 =  398.6034536276549 kJ/kg\n",
            "s_2_1 =  1.7270857594574676 kJ/kg.K\n",
            "h_2_2s =  431.1519276711696 kJ/kg\n",
            "h_2_2 =  436.89577603178975 kJ/kg\n",
            "h_2_3 =  275.40222442712746 kJ/kg\n"
          ]
        }
      ]
    },
    {
      "cell_type": "markdown",
      "source": [
        "## Solução do exercício determinar o COP\n",
        "\n",
        "#### determinar a vazão mássica do fluido refrigerante\n",
        "\n",
        "A vazão mássica do fluido refrigerante é determinado por:\n",
        "\n",
        "$$ \\dot{Q}_{ref} =  \\dot{m}_r (h_1 - h_4) \\, \\, \\rightarrow  \\, \\, \\dot{m}_r = \\frac{\\dot{Q}_{ref}}{(h_1 - h_4)}$$"
      ],
      "metadata": {
        "id": "FEla_M3jHjse"
      }
    },
    {
      "cell_type": "code",
      "source": [
        "m_2_r = Q_2_ref / (h_2_1 - h_2_4)\n",
        "print(\"m = \", m_2_r, \"kg/s\")"
      ],
      "metadata": {
        "colab": {
          "base_uri": "https://localhost:8080/"
        },
        "id": "659YCCsxIDsu",
        "outputId": "2ac1d404-bd71-40d4-e238-f24c2ee854cf"
      },
      "execution_count": null,
      "outputs": [
        {
          "output_type": "stream",
          "name": "stdout",
          "text": [
            "m =  0.8116802133299807 kg/s\n"
          ]
        }
      ]
    },
    {
      "cell_type": "markdown",
      "source": [
        "#### Determinando a potência do compressor pode ser determinado por:\n",
        "\n",
        "A potência do compressor é determinado por:\n",
        "\n",
        "$$ \\dot{W}_c = \\dot{m}_r (h_2 - h_1) $$\n"
      ],
      "metadata": {
        "id": "BupnIF1bIQsL"
      }
    },
    {
      "cell_type": "code",
      "source": [
        "w_2_c = m_2_r * (h_2_2 - h_2_1)\n",
        "print(\"w = \", w_2_c/1000, \"kW\")"
      ],
      "metadata": {
        "colab": {
          "base_uri": "https://localhost:8080/"
        },
        "id": "zEBWF8XwIkzv",
        "outputId": "49e5d038-fe11-4573-d81d-ba2f3d903426"
      },
      "execution_count": null,
      "outputs": [
        {
          "output_type": "stream",
          "name": "stdout",
          "text": [
            "w =  31.08112041788857 kW\n"
          ]
        }
      ]
    },
    {
      "cell_type": "markdown",
      "source": [
        "#### O coeficiente de Performance pode ser determinado por:\n",
        "\n",
        "$$ COP = \\frac{\\dot{Q}_{ref}}{\\dot{W}_c}$$"
      ],
      "metadata": {
        "id": "zsM5m-e2Iwaf"
      }
    },
    {
      "cell_type": "code",
      "source": [
        "COP_2 = Q_2_ref / w_2_c\n",
        "print(\"COP = \", COP_2)"
      ],
      "metadata": {
        "colab": {
          "base_uri": "https://localhost:8080/"
        },
        "id": "bVbhKZbXI99o",
        "outputId": "88c9b0d3-2533-49de-9fbb-ff681f61c94f"
      },
      "execution_count": null,
      "outputs": [
        {
          "output_type": "stream",
          "name": "stdout",
          "text": [
            "COP =  3.2173872323613386\n"
          ]
        }
      ]
    },
    {
      "cell_type": "markdown",
      "source": [
        "## Questão 3\n",
        "\n",
        "A figura abaixo mostra um dispositivo destinado a fornecer resfriamento direto, em uma edificação. O sistema foi concebido para fornecer água gelada a Ta,1 e com vazão de mágua para a edificação (saída da torre de resfriamento) cuja temperatura do ar ambiente Tamb(ar que entra na torre). A água que retorna da edificação para a torre de resfriamento, a Ta,2 , é resfriada por evaporação em contato com uma corrente de ar ambiente seco, mas quente. O ar sai do dispositivo de resfriamento por evaporação (torre de resfriamento), saturado a Tar,s. Devido à evaporação, deve ser adicionada água de reposição com temperatura de Ta,rep . Despreze qualquer fornecimento de energia para ventilação. Calcule o que se segue, empregando as condições de projeto:\n",
        "\n",
        "Variável\n",
        "Valor\n",
        "Ta,1 [°C]\n",
        "28\n",
        "mágua  [kg/s]\n",
        "0,20\n",
        "Tamb [°C]\n",
        "20\n",
        "Ta,2 [°C]\n",
        "38\n",
        "Tar,s [°C]\n",
        "34\n",
        "Ta, rep [°C]\n",
        "18\n",
        "Φamb [%]\n",
        "55\n",
        "P [kPa]\n",
        "97\n",
        "\n"
      ],
      "metadata": {
        "id": "f3g3MFf4wV9g"
      }
    },
    {
      "cell_type": "markdown",
      "source": [
        "![questão3.jpg](data:image/jpeg;base64,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)"
      ],
      "metadata": {
        "id": "Kn6g9odqF7RD"
      }
    },
    {
      "cell_type": "markdown",
      "source": [
        "Dados fornecidos:\n",
        "\n"
      ],
      "metadata": {
        "id": "_atZO0fs5BNR"
      }
    },
    {
      "cell_type": "code",
      "source": [
        "# água na torre\n",
        "T_3_1  = 28 +273.15 # água fria fornecida ao condensador -- saí da torre\n",
        "T_3_2 = 38 + 273.15 # água proveniente do condensador -- entra na torre\n",
        "T_3_5 = 18 +273.15 # água de reposição --entra na torre\n",
        "\n",
        "# Ar na torre de resfriamento\n",
        "T_3_3 = 20 +273.15 # ar do ambiente que entra na torre --entra na torre\n",
        "phi_3_3 = 0.55 # umidade relativa do ar de entrada na torre - ar ambiente\n",
        "T_3_4 = 34 +273.15 # ar que sai da torre de resfriamento\n",
        "phi_3_4 = 1\n",
        "\n",
        "#Pressão atmosférica\n",
        "\n",
        "Patm3 = 97000  # Pa\n"
      ],
      "metadata": {
        "id": "nm3LSLBTwdcH"
      },
      "execution_count": null,
      "outputs": []
    },
    {
      "cell_type": "markdown",
      "source": [
        "#### Cálculo do estado"
      ],
      "metadata": {
        "id": "birXo7_8QRHI"
      }
    },
    {
      "cell_type": "code",
      "source": [
        "# dados da água\n",
        "\n",
        "h_3_1 = PropsSI('H', 'T', T_3_1, 'Q', 0, 'Water')\n",
        "print(\"h_3_1\", h_3_1/1000, \"kJ/kg\")\n",
        "\n",
        "h_3_2 = PropsSI('H', 'T', T_3_2, 'Q', 0, 'Water')\n",
        "print(\"h_3_2\", h_3_2/1000, \"kJ/kg\")\n",
        "\n",
        "h_3_5 = PropsSI('H', 'T', T_3_5, 'Q', 0, 'Water')\n",
        "print(\"h_3_5\", h_3_5/1000, \"kJ/kg\")\n",
        "\n",
        "# dados do ar\n",
        "\n",
        "w_3_3 = HAPropsSI('W', 'T', T_3_3, 'R', phi_3_3, 'P', Patm3)\n",
        "print(\"w_3_3\", w_3_3, \"kg/kg\")\n",
        "h_3_3 = HAPropsSI('H', 'T', T_3_3, 'R', phi_3_3, 'P', Patm3)\n",
        "print(\"h_3_3 = \", h_3_3/1000, \"kJ/kg\")\n",
        "\n",
        "\n",
        "w_3_4 = HAPropsSI('W', 'T', T_3_4, 'R', phi_3_4, 'P', Patm3)\n",
        "print(\"w_3_4\", w_3_4, \"kg/kg\")\n",
        "h_3_4 = HAPropsSI('H', 'T', T_3_4, 'R', phi_3_4, 'P', Patm3)\n",
        "print(\"h_3_4 = \", h_3_4/1000, \"kJ/kg\")\n",
        "\n"
      ],
      "metadata": {
        "id": "ykBz-Mrr6huM",
        "colab": {
          "base_uri": "https://localhost:8080/"
        },
        "outputId": "d0f4cfc7-1651-4775-a14c-3798f73c5162"
      },
      "execution_count": null,
      "outputs": [
        {
          "output_type": "stream",
          "name": "stdout",
          "text": [
            "h_3_1 117.37292887741309 kJ/kg\n",
            "h_3_2 159.17322262172306 kJ/kg\n",
            "h_3_5 75.54366683866564 kJ/kg\n",
            "w_3_3 0.008394368432013142 kg/kg\n",
            "h_3_3 =  41.425592190501234 kJ/kg\n",
            "w_3_4 0.03629421144293567 kg/kg\n",
            "h_3_4 =  127.20443237707924 kJ/kg\n"
          ]
        }
      ]
    },
    {
      "cell_type": "markdown",
      "source": [
        "##### Solução da letra a)\n",
        "\n",
        "Balanço de massa de ar seco:\n",
        "\n",
        "$$ \\dot{m}_3 = \\dot{m}_4$$\n",
        "\n",
        "Balanço de massa de água:\n",
        "\n",
        "$$ \\dot{m}_2 - \\dot{m}_1 + \\dot{m}_{3} \\omega_3 - \\dot{m}_4 \\omega_4 + \\dot{m}_5 = 0$$\n",
        "\n",
        "Portanto, temos que $\\dot{m}_2 = \\dot{m}_1$ e:\n",
        "$$ \\dot{m}_5 = \\dot{m}_{ar} (\\omega_4 - \\omega_3)$$\n",
        "\n",
        "Balanço de energia:\n",
        "\n",
        "$$ \\dot{m}_1 (h_2 - h_1) + \\dot{m}_{ar} (h_3 - h_4) + \\dot{m}_5 h_5 = 0 $$\n",
        "\n",
        "substituindo $\\dot{m}_5$ por $\\dot{m}_{ar} (\\omega_4 - \\omega_3)$, temnos;\n",
        "\n",
        "$$ \\dot{m}_1 (h_2 - h_1) + \\dot{m}_{ar} (h_3 - h_4) + \\dot{m}_{ar} (\\omega_4 - \\omega_3) h_5 = 0 $$\n",
        "\n",
        "Podemos determinar:\n",
        "\n",
        "$$ \\dot{m}_{ar}  = \\frac{-\\dot{m}_1 (h_2 - h_1)}{(h_3 - h_4) + (\\omega_4 - \\omega_3) h_5}$$"
      ],
      "metadata": {
        "id": "eLYwe2fcRhqI"
      }
    },
    {
      "cell_type": "code",
      "source": [
        "m_3_1 = 0.20 # vazão de água\n",
        "\n",
        "m_3_3 = ( - m_3_1 * (h_3_2 - h_3_1)) / ((h_3_3 - h_3_4) + (w_3_4 - w_3_3) * h_3_5)\n",
        "print(\"m_ar = \", m_3_3, \"kg/s\")\n",
        "\n",
        "print(\"m_ar = \", m_3_3*3600, \"kg/h\")"
      ],
      "metadata": {
        "colab": {
          "base_uri": "https://localhost:8080/"
        },
        "id": "TPR-WR3XSYoW",
        "outputId": "0f601a7b-9fbe-4a54-881c-42d9004be028"
      },
      "execution_count": null,
      "outputs": [
        {
          "output_type": "stream",
          "name": "stdout",
          "text": [
            "m_ar =  0.09991562656396959 kg/s\n",
            "m_ar =  359.6962556302905 kg/h\n"
          ]
        }
      ]
    },
    {
      "cell_type": "markdown",
      "source": [
        "#### vazão de água de reposição:\n",
        "\n",
        "$$ \\dot{m}_5 = \\dot{m}_{ar} (\\omega_4 - \\omega_3)$$"
      ],
      "metadata": {
        "id": "SsaCOpCUUUoV"
      }
    },
    {
      "cell_type": "code",
      "source": [
        "m_3_5 = m_3_3 * (w_3_4 - w_3_3)\n",
        "print(\"m_3_5 = \", m_3_5, \"kg/s\")\n",
        "print(\"m_3_5 = \", m_3_5*3600, \"kg/h\")"
      ],
      "metadata": {
        "colab": {
          "base_uri": "https://localhost:8080/"
        },
        "id": "UKnCbe_TUUY6",
        "outputId": "58cc7014-24a6-499d-c384-df58c94b4f80"
      },
      "execution_count": null,
      "outputs": [
        {
          "output_type": "stream",
          "name": "stdout",
          "text": [
            "m_3_5 =  0.002787630295472712 kg/s\n",
            "m_3_5 =  10.035469063701763 kg/h\n"
          ]
        }
      ]
    },
    {
      "cell_type": "markdown",
      "source": [
        "## Questão 4\n",
        "Considere um pequeno ciclo de refrigeração por absorção de amônia-água que é operado por energia solar e é utilizado como ar-condicionado. Vapor saturado de amônia deixa o gerador à 90°C, e o vapor saturado deixa o evaporador a -10ºC. Se 5000 kJ de calor é necessário no gerador (energia solar por coletor solar) por kg de vapor de amônia gerado, determine o desempenho deste sistema."
      ],
      "metadata": {
        "id": "Vk0vQ9ry6iNa"
      }
    },
    {
      "cell_type": "markdown",
      "source": [
        "![ciclodeabsorcao.drawio.png](data:image/png;base64,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)"
      ],
      "metadata": {
        "id": "k0FxgOpAXFNr"
      }
    },
    {
      "cell_type": "markdown",
      "source": [
        "# dados fornecidos"
      ],
      "metadata": {
        "id": "Qpqvda1gWr3X"
      }
    },
    {
      "cell_type": "code",
      "source": [
        "fluido4 = 'R717'\n",
        "\n",
        "T_4_1 = -10 +273.15\n",
        "x_4_1 = 1\n",
        "\n",
        "T_4_2 = 90 + 273.15\n",
        "x_4_2 = 1\n",
        "\n",
        "T_4_3 = T_4_2\n",
        "x_4_3 = 0\n",
        "\n",
        "Q_4_gerador = 5000000 #J de calor"
      ],
      "metadata": {
        "id": "JVQ5HDZX6nTB"
      },
      "execution_count": null,
      "outputs": []
    },
    {
      "cell_type": "markdown",
      "source": [
        "#### Estado termodinâmico\n"
      ],
      "metadata": {
        "id": "EA1oBEJEZ30o"
      }
    },
    {
      "cell_type": "code",
      "source": [
        "h_4_1 = PropsSI('H', 'T', T_4_1, 'Q', x_4_1, fluido4)\n",
        "print(\"h1 = \", h_4_1/1000, \"kJ/kg\")\n",
        "\n",
        "h_4_2 = PropsSI('H', 'T', T_4_2, 'Q', x_4_2, fluido4)\n",
        "print(\"h2 = \", h_4_2/1000, \"kJ/kg\")\n",
        "\n",
        "h_4_3 = PropsSI('H', 'T', T_4_3, 'Q', x_4_3, fluido4)\n",
        "print(\"h3 = \", h_4_3/1000, \"kJ/kg\")\n",
        "\n",
        "h_4_4 = h_4_3"
      ],
      "metadata": {
        "colab": {
          "base_uri": "https://localhost:8080/"
        },
        "id": "LYPSm-sJaYE3",
        "outputId": "2edc3f18-dbf0-4d90-bdb5-876653e530c0"
      },
      "execution_count": null,
      "outputs": [
        {
          "output_type": "stream",
          "name": "stdout",
          "text": [
            "h1 =  1595.9489831001572 kJ/kg\n",
            "h2 =  1604.993782729113 kJ/kg\n",
            "h3 =  804.3269538238834 kJ/kg\n"
          ]
        }
      ]
    },
    {
      "cell_type": "markdown",
      "source": [
        "### determinando o COP\n",
        "\n",
        "$$ COP = \\frac{\\dot{Q}_L}{\\dot{Q}_{gerador}} = \\frac{(h_1 - h_4)}{\\dot{Q}_{gerador}}$$"
      ],
      "metadata": {
        "id": "leQeB1zKbAwv"
      }
    },
    {
      "cell_type": "code",
      "source": [
        "COP_4 = (h_4_1 - h_4_4) / Q_4_gerador\n",
        "print(\"COP = \", COP_4)"
      ],
      "metadata": {
        "colab": {
          "base_uri": "https://localhost:8080/"
        },
        "id": "IvpDfbJKaoDt",
        "outputId": "67121f31-9da3-4ade-8f22-df13b1746fc2"
      },
      "execution_count": null,
      "outputs": [
        {
          "output_type": "stream",
          "name": "stdout",
          "text": [
            "COP =  0.15832440585525476\n"
          ]
        }
      ]
    }
  ]
}